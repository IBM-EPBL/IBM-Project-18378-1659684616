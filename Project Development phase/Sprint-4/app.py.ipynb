{
 "cells": [
  {
   "cell_type": "code",
   "execution_count": null,
   "id": "a17d80f8",
   "metadata": {},
   "outputs": [],
   "source": [
    "import numpy as np\n",
    "from flask import Flask,render_template,request\n",
    "import pickle\n",
    "app= Flask(__name__)\n",
    "model=pickle.load(open(r'C:\\Users\\RIT\\Desktop\\Python\\wqi.pkl','rb'))\n",
    "@app.route('/')\n",
    "def home() :\n",
    "  return render_template(\"water.html\")\n",
    "@app.route('/login',methods = ['POST'])\n",
    "def login() :\n",
    "  year = request.form[\"year\"]\n",
    "  do = request.form[\"do\"]\n",
    "  ph = request.form[\"ph\"]\n",
    "  co = request.form[\"co\"]\n",
    "  bod = request.form[\"bod\"]\n",
    "  tc = request.form[\"tc\"]\n",
    "  na = request.form[\"na\"]\n",
    "  total = [[float(do),float(ph),float(co),float(bod),float(na),float(tc)]]\n",
    "  y_pred = model.predict(total)\n",
    "  y_pred = y_pred[[0]]\n",
    "  if(y_pred >= 95 and y_pred<=100):\n",
    "    return render_template(\"water.html\",showcase = 'Excellent, The Predicted Value Is'+ str(y_pred))\n",
    "  elif(y_pred >= 89 and y_pred<=94):\n",
    "    return render_template(\"water.html\",showcase = 'Very Good, The Predicted Value Is'+ str(y_pred))\n",
    "  elif(y_pred >= 80 and y_pred<=88):\n",
    "    return render_template(\"water.html\",showcase = 'Good, The Predicted Value Is'+ str(y_pred))\n",
    "  elif(y_pred >= 65 and y_pred<=79):\n",
    "    return render_template(\"water.html\",showcase = 'Fair, The Predicted Value Is'+ str(y_pred))\n",
    "  elif(y_pred >= 45 and y_pred<=64):\n",
    "    return render_template(\"water.html\",showcase = 'Marginal, The Predicted Value Is'+ str(y_pred))\n",
    "  else:\n",
    "    return render_template(\"water.html\",showcase = 'Poor, The Predicted Value Is'+ str(y_pred))\n",
    "\n",
    "\n",
    "if __name__ == '__main__':\n",
    "     app.run(debug = False,port=5000)"
   ]
  },
  {
   "cell_type": "code",
   "execution_count": null,
   "id": "f9631b8a",
   "metadata": {},
   "outputs": [],
   "source": []
  },
  {
   "cell_type": "code",
   "execution_count": null,
   "id": "f6822074",
   "metadata": {},
   "outputs": [],
   "source": []
  }
 ],
 "metadata": {
  "kernelspec": {
   "display_name": "Python 3 (ipykernel)",
   "language": "python",
   "name": "python3"
  },
  "language_info": {
   "codemirror_mode": {
    "name": "ipython",
    "version": 3
   },
   "file_extension": ".py",
   "mimetype": "text/x-python",
   "name": "python",
   "nbconvert_exporter": "python",
   "pygments_lexer": "ipython3",
   "version": "3.9.13"
  }
 },
 "nbformat": 4,
 "nbformat_minor": 5
}
