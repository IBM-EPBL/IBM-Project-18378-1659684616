{
  "cells": [
    {
      "cell_type": "markdown",
      "id": "94e2bebf",
      "metadata": {
        "id": "94e2bebf"
      },
      "source": [
        "# Importing The Necessary Libraries"
      ]
    },
    {
      "cell_type": "code",
      "source": [
        "import warnings"
      ],
      "metadata": {
        "id": "j2nHuT_VybxY"
      },
      "id": "j2nHuT_VybxY",
      "execution_count": 8,
      "outputs": []
    },
    {
      "cell_type": "code",
      "execution_count": 1,
      "id": "5a1dae3a",
      "metadata": {
        "id": "5a1dae3a"
      },
      "outputs": [],
      "source": [
        "import numpy as np\n",
        "import pandas as pd\n",
        "import matplotlib.pyplot as plt\n",
        "import seaborn as sns"
      ]
    },
    {
      "cell_type": "markdown",
      "id": "09075f9a",
      "metadata": {
        "id": "09075f9a"
      },
      "source": [
        "# Reading the Data\n",
        "\n",
        "> Indented block\n",
        "\n"
      ]
    },
    {
      "cell_type": "code",
      "execution_count": 11,
      "id": "6015ad52",
      "metadata": {
        "id": "6015ad52"
      },
      "outputs": [],
      "source": [
        "data=pd.read_csv(r'/content/water_dataX.csv',encoding='ISO-8859-1',low_memory=False)\n"
      ]
    },
    {
      "cell_type": "markdown",
      "id": "741c96f4",
      "metadata": {
        "id": "741c96f4"
      },
      "source": [
        "# head() command "
      ]
    },
    {
      "cell_type": "code",
      "execution_count": 14,
      "id": "89d3282d",
      "metadata": {
        "colab": {
          "base_uri": "https://localhost:8080/",
          "height": 513
        },
        "id": "89d3282d",
        "outputId": "0c76a9a7-0b20-410d-c5f9-e15474570a7d"
      },
      "outputs": [
        {
          "output_type": "execute_result",
          "data": {
            "text/plain": [
              "  STATION CODE                                          LOCATIONS  \\\n",
              "0         1393               DAMANGANGA AT D/S OF MADHUBAN, DAMAN   \n",
              "1         1399  ZUARI AT D/S OF PT. WHERE KUMBARJRIA CANAL JOI...   \n",
              "2         1475                                ZUARI AT PANCHAWADI   \n",
              "3         3181                        RIVER ZUARI AT BORIM BRIDGE   \n",
              "4         3182                       RIVER ZUARI AT MARCAIM JETTY   \n",
              "\n",
              "         STATE  Temp D.O. (mg/l)   PH CONDUCTIVITY (µmhos/cm) B.O.D. (mg/l)  \\\n",
              "0  DAMAN & DIU  30.6         6.7  7.5                     203           NAN   \n",
              "1          GOA  29.8         5.7  7.2                     189             2   \n",
              "2          GOA  29.5         6.3  6.9                     179           1.7   \n",
              "3          GOA  29.7         5.8  6.9                      64           3.8   \n",
              "4          GOA  29.5         5.8  7.3                      83           1.9   \n",
              "\n",
              "  NITRATENAN N+ NITRITENANN (mg/l) FECAL COLIFORM (MPN/100ml)  \\\n",
              "0                              0.1                         11   \n",
              "1                              0.2                       4953   \n",
              "2                              0.1                       3243   \n",
              "3                              0.5                       5382   \n",
              "4                              0.4                       3428   \n",
              "\n",
              "  TOTAL COLIFORM (MPN/100ml)Mean  year  \n",
              "0                             27  2014  \n",
              "1                           8391  2014  \n",
              "2                           5330  2014  \n",
              "3                           8443  2014  \n",
              "4                           5500  2014  "
            ],
            "text/html": [
              "\n",
              "  <div id=\"df-7b93af0a-92d0-4270-9608-42721cb31b7c\">\n",
              "    <div class=\"colab-df-container\">\n",
              "      <div>\n",
              "<style scoped>\n",
              "    .dataframe tbody tr th:only-of-type {\n",
              "        vertical-align: middle;\n",
              "    }\n",
              "\n",
              "    .dataframe tbody tr th {\n",
              "        vertical-align: top;\n",
              "    }\n",
              "\n",
              "    .dataframe thead th {\n",
              "        text-align: right;\n",
              "    }\n",
              "</style>\n",
              "<table border=\"1\" class=\"dataframe\">\n",
              "  <thead>\n",
              "    <tr style=\"text-align: right;\">\n",
              "      <th></th>\n",
              "      <th>STATION CODE</th>\n",
              "      <th>LOCATIONS</th>\n",
              "      <th>STATE</th>\n",
              "      <th>Temp</th>\n",
              "      <th>D.O. (mg/l)</th>\n",
              "      <th>PH</th>\n",
              "      <th>CONDUCTIVITY (µmhos/cm)</th>\n",
              "      <th>B.O.D. (mg/l)</th>\n",
              "      <th>NITRATENAN N+ NITRITENANN (mg/l)</th>\n",
              "      <th>FECAL COLIFORM (MPN/100ml)</th>\n",
              "      <th>TOTAL COLIFORM (MPN/100ml)Mean</th>\n",
              "      <th>year</th>\n",
              "    </tr>\n",
              "  </thead>\n",
              "  <tbody>\n",
              "    <tr>\n",
              "      <th>0</th>\n",
              "      <td>1393</td>\n",
              "      <td>DAMANGANGA AT D/S OF MADHUBAN, DAMAN</td>\n",
              "      <td>DAMAN &amp; DIU</td>\n",
              "      <td>30.6</td>\n",
              "      <td>6.7</td>\n",
              "      <td>7.5</td>\n",
              "      <td>203</td>\n",
              "      <td>NAN</td>\n",
              "      <td>0.1</td>\n",
              "      <td>11</td>\n",
              "      <td>27</td>\n",
              "      <td>2014</td>\n",
              "    </tr>\n",
              "    <tr>\n",
              "      <th>1</th>\n",
              "      <td>1399</td>\n",
              "      <td>ZUARI AT D/S OF PT. WHERE KUMBARJRIA CANAL JOI...</td>\n",
              "      <td>GOA</td>\n",
              "      <td>29.8</td>\n",
              "      <td>5.7</td>\n",
              "      <td>7.2</td>\n",
              "      <td>189</td>\n",
              "      <td>2</td>\n",
              "      <td>0.2</td>\n",
              "      <td>4953</td>\n",
              "      <td>8391</td>\n",
              "      <td>2014</td>\n",
              "    </tr>\n",
              "    <tr>\n",
              "      <th>2</th>\n",
              "      <td>1475</td>\n",
              "      <td>ZUARI AT PANCHAWADI</td>\n",
              "      <td>GOA</td>\n",
              "      <td>29.5</td>\n",
              "      <td>6.3</td>\n",
              "      <td>6.9</td>\n",
              "      <td>179</td>\n",
              "      <td>1.7</td>\n",
              "      <td>0.1</td>\n",
              "      <td>3243</td>\n",
              "      <td>5330</td>\n",
              "      <td>2014</td>\n",
              "    </tr>\n",
              "    <tr>\n",
              "      <th>3</th>\n",
              "      <td>3181</td>\n",
              "      <td>RIVER ZUARI AT BORIM BRIDGE</td>\n",
              "      <td>GOA</td>\n",
              "      <td>29.7</td>\n",
              "      <td>5.8</td>\n",
              "      <td>6.9</td>\n",
              "      <td>64</td>\n",
              "      <td>3.8</td>\n",
              "      <td>0.5</td>\n",
              "      <td>5382</td>\n",
              "      <td>8443</td>\n",
              "      <td>2014</td>\n",
              "    </tr>\n",
              "    <tr>\n",
              "      <th>4</th>\n",
              "      <td>3182</td>\n",
              "      <td>RIVER ZUARI AT MARCAIM JETTY</td>\n",
              "      <td>GOA</td>\n",
              "      <td>29.5</td>\n",
              "      <td>5.8</td>\n",
              "      <td>7.3</td>\n",
              "      <td>83</td>\n",
              "      <td>1.9</td>\n",
              "      <td>0.4</td>\n",
              "      <td>3428</td>\n",
              "      <td>5500</td>\n",
              "      <td>2014</td>\n",
              "    </tr>\n",
              "  </tbody>\n",
              "</table>\n",
              "</div>\n",
              "      <button class=\"colab-df-convert\" onclick=\"convertToInteractive('df-7b93af0a-92d0-4270-9608-42721cb31b7c')\"\n",
              "              title=\"Convert this dataframe to an interactive table.\"\n",
              "              style=\"display:none;\">\n",
              "        \n",
              "  <svg xmlns=\"http://www.w3.org/2000/svg\" height=\"24px\"viewBox=\"0 0 24 24\"\n",
              "       width=\"24px\">\n",
              "    <path d=\"M0 0h24v24H0V0z\" fill=\"none\"/>\n",
              "    <path d=\"M18.56 5.44l.94 2.06.94-2.06 2.06-.94-2.06-.94-.94-2.06-.94 2.06-2.06.94zm-11 1L8.5 8.5l.94-2.06 2.06-.94-2.06-.94L8.5 2.5l-.94 2.06-2.06.94zm10 10l.94 2.06.94-2.06 2.06-.94-2.06-.94-.94-2.06-.94 2.06-2.06.94z\"/><path d=\"M17.41 7.96l-1.37-1.37c-.4-.4-.92-.59-1.43-.59-.52 0-1.04.2-1.43.59L10.3 9.45l-7.72 7.72c-.78.78-.78 2.05 0 2.83L4 21.41c.39.39.9.59 1.41.59.51 0 1.02-.2 1.41-.59l7.78-7.78 2.81-2.81c.8-.78.8-2.07 0-2.86zM5.41 20L4 18.59l7.72-7.72 1.47 1.35L5.41 20z\"/>\n",
              "  </svg>\n",
              "      </button>\n",
              "      \n",
              "  <style>\n",
              "    .colab-df-container {\n",
              "      display:flex;\n",
              "      flex-wrap:wrap;\n",
              "      gap: 12px;\n",
              "    }\n",
              "\n",
              "    .colab-df-convert {\n",
              "      background-color: #E8F0FE;\n",
              "      border: none;\n",
              "      border-radius: 50%;\n",
              "      cursor: pointer;\n",
              "      display: none;\n",
              "      fill: #1967D2;\n",
              "      height: 32px;\n",
              "      padding: 0 0 0 0;\n",
              "      width: 32px;\n",
              "    }\n",
              "\n",
              "    .colab-df-convert:hover {\n",
              "      background-color: #E2EBFA;\n",
              "      box-shadow: 0px 1px 2px rgba(60, 64, 67, 0.3), 0px 1px 3px 1px rgba(60, 64, 67, 0.15);\n",
              "      fill: #174EA6;\n",
              "    }\n",
              "\n",
              "    [theme=dark] .colab-df-convert {\n",
              "      background-color: #3B4455;\n",
              "      fill: #D2E3FC;\n",
              "    }\n",
              "\n",
              "    [theme=dark] .colab-df-convert:hover {\n",
              "      background-color: #434B5C;\n",
              "      box-shadow: 0px 1px 3px 1px rgba(0, 0, 0, 0.15);\n",
              "      filter: drop-shadow(0px 1px 2px rgba(0, 0, 0, 0.3));\n",
              "      fill: #FFFFFF;\n",
              "    }\n",
              "  </style>\n",
              "\n",
              "      <script>\n",
              "        const buttonEl =\n",
              "          document.querySelector('#df-7b93af0a-92d0-4270-9608-42721cb31b7c button.colab-df-convert');\n",
              "        buttonEl.style.display =\n",
              "          google.colab.kernel.accessAllowed ? 'block' : 'none';\n",
              "\n",
              "        async function convertToInteractive(key) {\n",
              "          const element = document.querySelector('#df-7b93af0a-92d0-4270-9608-42721cb31b7c');\n",
              "          const dataTable =\n",
              "            await google.colab.kernel.invokeFunction('convertToInteractive',\n",
              "                                                     [key], {});\n",
              "          if (!dataTable) return;\n",
              "\n",
              "          const docLinkHtml = 'Like what you see? Visit the ' +\n",
              "            '<a target=\"_blank\" href=https://colab.research.google.com/notebooks/data_table.ipynb>data table notebook</a>'\n",
              "            + ' to learn more about interactive tables.';\n",
              "          element.innerHTML = '';\n",
              "          dataTable['output_type'] = 'display_data';\n",
              "          await google.colab.output.renderOutput(dataTable, element);\n",
              "          const docLink = document.createElement('div');\n",
              "          docLink.innerHTML = docLinkHtml;\n",
              "          element.appendChild(docLink);\n",
              "        }\n",
              "      </script>\n",
              "    </div>\n",
              "  </div>\n",
              "  "
            ]
          },
          "metadata": {},
          "execution_count": 14
        }
      ],
      "source": [
        "data.head()"
      ]
    },
    {
      "cell_type": "markdown",
      "id": "89f147c5",
      "metadata": {
        "id": "89f147c5"
      },
      "source": [
        "\n",
        "Analyse the data\n"
      ]
    },
    {
      "cell_type": "code",
      "execution_count": 15,
      "id": "3eac1b81",
      "metadata": {
        "colab": {
          "base_uri": "https://localhost:8080/"
        },
        "id": "3eac1b81",
        "outputId": "aab9db6a-b396-4827-9682-53544fe032cb"
      },
      "outputs": [
        {
          "output_type": "stream",
          "name": "stdout",
          "text": [
            "<class 'pandas.core.frame.DataFrame'>\n",
            "RangeIndex: 1991 entries, 0 to 1990\n",
            "Data columns (total 12 columns):\n",
            " #   Column                            Non-Null Count  Dtype \n",
            "---  ------                            --------------  ----- \n",
            " 0   STATION CODE                      1991 non-null   object\n",
            " 1   LOCATIONS                         1991 non-null   object\n",
            " 2   STATE                             1991 non-null   object\n",
            " 3   Temp                              1991 non-null   object\n",
            " 4   D.O. (mg/l)                       1991 non-null   object\n",
            " 5   PH                                1991 non-null   object\n",
            " 6   CONDUCTIVITY (µmhos/cm)           1991 non-null   object\n",
            " 7   B.O.D. (mg/l)                     1991 non-null   object\n",
            " 8   NITRATENAN N+ NITRITENANN (mg/l)  1991 non-null   object\n",
            " 9   FECAL COLIFORM (MPN/100ml)        1991 non-null   object\n",
            " 10  TOTAL COLIFORM (MPN/100ml)Mean    1991 non-null   object\n",
            " 11  year                              1991 non-null   int64 \n",
            "dtypes: int64(1), object(11)\n",
            "memory usage: 186.8+ KB\n"
          ]
        }
      ],
      "source": [
        "data.info()"
      ]
    },
    {
      "cell_type": "code",
      "execution_count": 16,
      "id": "dd5985e5",
      "metadata": {
        "colab": {
          "base_uri": "https://localhost:8080/",
          "height": 300
        },
        "id": "dd5985e5",
        "outputId": "3e50ac5e-fb2b-430e-a457-557b33941995"
      },
      "outputs": [
        {
          "output_type": "execute_result",
          "data": {
            "text/plain": [
              "              year\n",
              "count  1991.000000\n",
              "mean   2010.038172\n",
              "std       3.057333\n",
              "min    2003.000000\n",
              "25%    2008.000000\n",
              "50%    2011.000000\n",
              "75%    2013.000000\n",
              "max    2014.000000"
            ],
            "text/html": [
              "\n",
              "  <div id=\"df-686b1faa-1956-4568-b75e-eed9371a93f2\">\n",
              "    <div class=\"colab-df-container\">\n",
              "      <div>\n",
              "<style scoped>\n",
              "    .dataframe tbody tr th:only-of-type {\n",
              "        vertical-align: middle;\n",
              "    }\n",
              "\n",
              "    .dataframe tbody tr th {\n",
              "        vertical-align: top;\n",
              "    }\n",
              "\n",
              "    .dataframe thead th {\n",
              "        text-align: right;\n",
              "    }\n",
              "</style>\n",
              "<table border=\"1\" class=\"dataframe\">\n",
              "  <thead>\n",
              "    <tr style=\"text-align: right;\">\n",
              "      <th></th>\n",
              "      <th>year</th>\n",
              "    </tr>\n",
              "  </thead>\n",
              "  <tbody>\n",
              "    <tr>\n",
              "      <th>count</th>\n",
              "      <td>1991.000000</td>\n",
              "    </tr>\n",
              "    <tr>\n",
              "      <th>mean</th>\n",
              "      <td>2010.038172</td>\n",
              "    </tr>\n",
              "    <tr>\n",
              "      <th>std</th>\n",
              "      <td>3.057333</td>\n",
              "    </tr>\n",
              "    <tr>\n",
              "      <th>min</th>\n",
              "      <td>2003.000000</td>\n",
              "    </tr>\n",
              "    <tr>\n",
              "      <th>25%</th>\n",
              "      <td>2008.000000</td>\n",
              "    </tr>\n",
              "    <tr>\n",
              "      <th>50%</th>\n",
              "      <td>2011.000000</td>\n",
              "    </tr>\n",
              "    <tr>\n",
              "      <th>75%</th>\n",
              "      <td>2013.000000</td>\n",
              "    </tr>\n",
              "    <tr>\n",
              "      <th>max</th>\n",
              "      <td>2014.000000</td>\n",
              "    </tr>\n",
              "  </tbody>\n",
              "</table>\n",
              "</div>\n",
              "      <button class=\"colab-df-convert\" onclick=\"convertToInteractive('df-686b1faa-1956-4568-b75e-eed9371a93f2')\"\n",
              "              title=\"Convert this dataframe to an interactive table.\"\n",
              "              style=\"display:none;\">\n",
              "        \n",
              "  <svg xmlns=\"http://www.w3.org/2000/svg\" height=\"24px\"viewBox=\"0 0 24 24\"\n",
              "       width=\"24px\">\n",
              "    <path d=\"M0 0h24v24H0V0z\" fill=\"none\"/>\n",
              "    <path d=\"M18.56 5.44l.94 2.06.94-2.06 2.06-.94-2.06-.94-.94-2.06-.94 2.06-2.06.94zm-11 1L8.5 8.5l.94-2.06 2.06-.94-2.06-.94L8.5 2.5l-.94 2.06-2.06.94zm10 10l.94 2.06.94-2.06 2.06-.94-2.06-.94-.94-2.06-.94 2.06-2.06.94z\"/><path d=\"M17.41 7.96l-1.37-1.37c-.4-.4-.92-.59-1.43-.59-.52 0-1.04.2-1.43.59L10.3 9.45l-7.72 7.72c-.78.78-.78 2.05 0 2.83L4 21.41c.39.39.9.59 1.41.59.51 0 1.02-.2 1.41-.59l7.78-7.78 2.81-2.81c.8-.78.8-2.07 0-2.86zM5.41 20L4 18.59l7.72-7.72 1.47 1.35L5.41 20z\"/>\n",
              "  </svg>\n",
              "      </button>\n",
              "      \n",
              "  <style>\n",
              "    .colab-df-container {\n",
              "      display:flex;\n",
              "      flex-wrap:wrap;\n",
              "      gap: 12px;\n",
              "    }\n",
              "\n",
              "    .colab-df-convert {\n",
              "      background-color: #E8F0FE;\n",
              "      border: none;\n",
              "      border-radius: 50%;\n",
              "      cursor: pointer;\n",
              "      display: none;\n",
              "      fill: #1967D2;\n",
              "      height: 32px;\n",
              "      padding: 0 0 0 0;\n",
              "      width: 32px;\n",
              "    }\n",
              "\n",
              "    .colab-df-convert:hover {\n",
              "      background-color: #E2EBFA;\n",
              "      box-shadow: 0px 1px 2px rgba(60, 64, 67, 0.3), 0px 1px 3px 1px rgba(60, 64, 67, 0.15);\n",
              "      fill: #174EA6;\n",
              "    }\n",
              "\n",
              "    [theme=dark] .colab-df-convert {\n",
              "      background-color: #3B4455;\n",
              "      fill: #D2E3FC;\n",
              "    }\n",
              "\n",
              "    [theme=dark] .colab-df-convert:hover {\n",
              "      background-color: #434B5C;\n",
              "      box-shadow: 0px 1px 3px 1px rgba(0, 0, 0, 0.15);\n",
              "      filter: drop-shadow(0px 1px 2px rgba(0, 0, 0, 0.3));\n",
              "      fill: #FFFFFF;\n",
              "    }\n",
              "  </style>\n",
              "\n",
              "      <script>\n",
              "        const buttonEl =\n",
              "          document.querySelector('#df-686b1faa-1956-4568-b75e-eed9371a93f2 button.colab-df-convert');\n",
              "        buttonEl.style.display =\n",
              "          google.colab.kernel.accessAllowed ? 'block' : 'none';\n",
              "\n",
              "        async function convertToInteractive(key) {\n",
              "          const element = document.querySelector('#df-686b1faa-1956-4568-b75e-eed9371a93f2');\n",
              "          const dataTable =\n",
              "            await google.colab.kernel.invokeFunction('convertToInteractive',\n",
              "                                                     [key], {});\n",
              "          if (!dataTable) return;\n",
              "\n",
              "          const docLinkHtml = 'Like what you see? Visit the ' +\n",
              "            '<a target=\"_blank\" href=https://colab.research.google.com/notebooks/data_table.ipynb>data table notebook</a>'\n",
              "            + ' to learn more about interactive tables.';\n",
              "          element.innerHTML = '';\n",
              "          dataTable['output_type'] = 'display_data';\n",
              "          await google.colab.output.renderOutput(dataTable, element);\n",
              "          const docLink = document.createElement('div');\n",
              "          docLink.innerHTML = docLinkHtml;\n",
              "          element.appendChild(docLink);\n",
              "        }\n",
              "      </script>\n",
              "    </div>\n",
              "  </div>\n",
              "  "
            ]
          },
          "metadata": {},
          "execution_count": 16
        }
      ],
      "source": [
        "data.describe()"
      ]
    },
    {
      "cell_type": "code",
      "execution_count": 17,
      "id": "792fea77",
      "metadata": {
        "colab": {
          "base_uri": "https://localhost:8080/"
        },
        "id": "792fea77",
        "outputId": "f855665a-49b8-4cee-8796-26ba66892cd4"
      },
      "outputs": [
        {
          "output_type": "execute_result",
          "data": {
            "text/plain": [
              "(1991, 12)"
            ]
          },
          "metadata": {},
          "execution_count": 17
        }
      ],
      "source": [
        "data.shape"
      ]
    },
    {
      "cell_type": "markdown",
      "id": "cb03757d",
      "metadata": {
        "id": "cb03757d"
      },
      "source": [
        "# Handling the Missing Values"
      ]
    },
    {
      "cell_type": "code",
      "execution_count": 19,
      "id": "27913830",
      "metadata": {
        "colab": {
          "base_uri": "https://localhost:8080/"
        },
        "id": "27913830",
        "outputId": "75d7774d-8812-4a68-e87c-943d7c0c4d22"
      },
      "outputs": [
        {
          "output_type": "execute_result",
          "data": {
            "text/plain": [
              "STATION CODE                        False\n",
              "LOCATIONS                           False\n",
              "STATE                               False\n",
              "Temp                                False\n",
              "D.O. (mg/l)                         False\n",
              "PH                                  False\n",
              "CONDUCTIVITY (µmhos/cm)             False\n",
              "B.O.D. (mg/l)                       False\n",
              "NITRATENAN N+ NITRITENANN (mg/l)    False\n",
              "FECAL COLIFORM (MPN/100ml)          False\n",
              "TOTAL COLIFORM (MPN/100ml)Mean      False\n",
              "year                                False\n",
              "dtype: bool"
            ]
          },
          "metadata": {},
          "execution_count": 19
        }
      ],
      "source": [
        "data.isnull().any()"
      ]
    },
    {
      "cell_type": "code",
      "execution_count": 20,
      "id": "cae6462c",
      "metadata": {
        "colab": {
          "base_uri": "https://localhost:8080/"
        },
        "id": "cae6462c",
        "outputId": "90a4d2be-4616-42be-bcb3-208540aa19f6"
      },
      "outputs": [
        {
          "output_type": "execute_result",
          "data": {
            "text/plain": [
              "STATION CODE                        0\n",
              "LOCATIONS                           0\n",
              "STATE                               0\n",
              "Temp                                0\n",
              "D.O. (mg/l)                         0\n",
              "PH                                  0\n",
              "CONDUCTIVITY (µmhos/cm)             0\n",
              "B.O.D. (mg/l)                       0\n",
              "NITRATENAN N+ NITRITENANN (mg/l)    0\n",
              "FECAL COLIFORM (MPN/100ml)          0\n",
              "TOTAL COLIFORM (MPN/100ml)Mean      0\n",
              "year                                0\n",
              "dtype: int64"
            ]
          },
          "metadata": {},
          "execution_count": 20
        }
      ],
      "source": [
        "data.isnull().sum()"
      ]
    },
    {
      "cell_type": "markdown",
      "id": "1b19f1c1",
      "metadata": {
        "id": "1b19f1c1"
      },
      "source": [
        "."
      ]
    },
    {
      "cell_type": "markdown",
      "id": "513885fa",
      "metadata": {
        "id": "513885fa"
      },
      "source": [
        "# Checking The Data Types"
      ]
    },
    {
      "cell_type": "code",
      "execution_count": 21,
      "id": "101ec4b3",
      "metadata": {
        "colab": {
          "base_uri": "https://localhost:8080/"
        },
        "id": "101ec4b3",
        "outputId": "14085441-a9aa-4d42-cb50-6486139ff96a"
      },
      "outputs": [
        {
          "output_type": "execute_result",
          "data": {
            "text/plain": [
              "STATION CODE                        object\n",
              "LOCATIONS                           object\n",
              "STATE                               object\n",
              "Temp                                object\n",
              "D.O. (mg/l)                         object\n",
              "PH                                  object\n",
              "CONDUCTIVITY (µmhos/cm)             object\n",
              "B.O.D. (mg/l)                       object\n",
              "NITRATENAN N+ NITRITENANN (mg/l)    object\n",
              "FECAL COLIFORM (MPN/100ml)          object\n",
              "TOTAL COLIFORM (MPN/100ml)Mean      object\n",
              "year                                 int64\n",
              "dtype: object"
            ]
          },
          "metadata": {},
          "execution_count": 21
        }
      ],
      "source": [
        "data.dtypes"
      ]
    },
    {
      "cell_type": "markdown",
      "id": "b75a4975",
      "metadata": {
        "id": "b75a4975"
      },
      "source": [
        "# Here"
      ]
    },
    {
      "cell_type": "code",
      "execution_count": 24,
      "id": "30deb70a",
      "metadata": {
        "id": "30deb70a"
      },
      "outputs": [],
      "source": [
        "data['Temp']=pd.to_numeric(data['Temp'],errors='coerce')\n",
        "data['D.O. (mg/l)']=pd.to_numeric(data['D.O. (mg/l)'],errors='coerce')\n",
        "data['PH']=pd.to_numeric(data['PH'],errors='coerce')\n",
        "data['B.O.D. (mg/l)']=pd.to_numeric(data['B.O.D. (mg/l)'],errors='coerce')\n",
        "data['CONDUCTIVITY (µmhos/cm)']=pd.to_numeric(data['CONDUCTIVITY (µmhos/cm)'],errors='coerce')\n",
        "data['NITRATENAN N+ NITRITENANN (mg/l)']=pd.to_numeric(data['NITRATENAN N+ NITRITENANN (mg/l)'],errors='coerce')\n",
        "data['TOTAL COLIFORM (MPN/100ml)Mean']=pd.to_numeric(data['TOTAL COLIFORM (MPN/100ml)Mean'],errors='coerce')"
      ]
    },
    {
      "cell_type": "code",
      "execution_count": 25,
      "id": "84155827",
      "metadata": {
        "colab": {
          "base_uri": "https://localhost:8080/"
        },
        "id": "84155827",
        "outputId": "1c4db898-f6c0-417e-9262-0d5216781abe"
      },
      "outputs": [
        {
          "output_type": "execute_result",
          "data": {
            "text/plain": [
              "STATION CODE                         object\n",
              "LOCATIONS                            object\n",
              "STATE                                object\n",
              "Temp                                float64\n",
              "D.O. (mg/l)                         float64\n",
              "PH                                  float64\n",
              "CONDUCTIVITY (µmhos/cm)             float64\n",
              "B.O.D. (mg/l)                       float64\n",
              "NITRATENAN N+ NITRITENANN (mg/l)    float64\n",
              "FECAL COLIFORM (MPN/100ml)           object\n",
              "TOTAL COLIFORM (MPN/100ml)Mean      float64\n",
              "year                                  int64\n",
              "dtype: object"
            ]
          },
          "metadata": {},
          "execution_count": 25
        }
      ],
      "source": [
        "data.dtypes"
      ]
    },
    {
      "cell_type": "markdown",
      "id": "27c3b582",
      "metadata": {
        "id": "27c3b582"
      },
      "source": [
        "Handling Missing Values 2"
      ]
    },
    {
      "cell_type": "code",
      "execution_count": 26,
      "id": "4ad2cd38",
      "metadata": {
        "colab": {
          "base_uri": "https://localhost:8080/"
        },
        "id": "4ad2cd38",
        "outputId": "5ee58bfc-7f3f-433d-86bf-31fdebc06581"
      },
      "outputs": [
        {
          "output_type": "execute_result",
          "data": {
            "text/plain": [
              "STATION CODE                        False\n",
              "LOCATIONS                           False\n",
              "STATE                               False\n",
              "Temp                                 True\n",
              "D.O. (mg/l)                          True\n",
              "PH                                   True\n",
              "CONDUCTIVITY (µmhos/cm)              True\n",
              "B.O.D. (mg/l)                        True\n",
              "NITRATENAN N+ NITRITENANN (mg/l)     True\n",
              "FECAL COLIFORM (MPN/100ml)          False\n",
              "TOTAL COLIFORM (MPN/100ml)Mean       True\n",
              "year                                False\n",
              "dtype: bool"
            ]
          },
          "metadata": {},
          "execution_count": 26
        }
      ],
      "source": [
        "data.isnull().any()"
      ]
    },
    {
      "cell_type": "code",
      "execution_count": 27,
      "id": "5545d003",
      "metadata": {
        "colab": {
          "base_uri": "https://localhost:8080/"
        },
        "id": "5545d003",
        "outputId": "8d4aa64e-1feb-4c4e-88b4-553a08f9bdfe"
      },
      "outputs": [
        {
          "output_type": "execute_result",
          "data": {
            "text/plain": [
              "STATION CODE                          0\n",
              "LOCATIONS                             0\n",
              "STATE                                 0\n",
              "Temp                                 92\n",
              "D.O. (mg/l)                          31\n",
              "PH                                    8\n",
              "CONDUCTIVITY (µmhos/cm)              25\n",
              "B.O.D. (mg/l)                        43\n",
              "NITRATENAN N+ NITRITENANN (mg/l)    225\n",
              "FECAL COLIFORM (MPN/100ml)            0\n",
              "TOTAL COLIFORM (MPN/100ml)Mean      132\n",
              "year                                  0\n",
              "dtype: int64"
            ]
          },
          "metadata": {},
          "execution_count": 27
        }
      ],
      "source": [
        "data.isnull().sum()"
      ]
    },
    {
      "cell_type": "markdown",
      "id": "f70e6406",
      "metadata": {
        "id": "f70e6406"
      },
      "source": [
        "Handling Missing values"
      ]
    },
    {
      "cell_type": "code",
      "execution_count": 32,
      "id": "2e7e2136",
      "metadata": {
        "id": "2e7e2136"
      },
      "outputs": [],
      "source": [
        "\n",
        "data['Temp'].fillna(data['Temp'].mean(),inplace=True)\n",
        "data['D.O. (mg/l)'].fillna(data['D.O. (mg/l)'].mean(),inplace=True)\n",
        "data['PH'].fillna(data['PH'].mean(),inplace=True)\n",
        "data['CONDUCTIVITY (µmhos/cm)'].fillna(data['CONDUCTIVITY (µmhos/cm)'].mean(),inplace=True)\n",
        "data['B.O.D. (mg/l)'].fillna(data['B.O.D. (mg/l)'].mean(),inplace=True)\n",
        "data['NITRATENAN N+ NITRITENANN (mg/l)'].fillna(data['NITRATENAN N+ NITRITENANN (mg/l)'].mean(),inplace=True)\n",
        "data['TOTAL COLIFORM (MPN/100ml)Mean'].fillna(data['TOTAL COLIFORM (MPN/100ml)Mean'].mean(),inplace=True)"
      ]
    },
    {
      "cell_type": "code",
      "execution_count": 33,
      "id": "7eb6a412",
      "metadata": {
        "colab": {
          "base_uri": "https://localhost:8080/"
        },
        "id": "7eb6a412",
        "outputId": "70a91588-b86d-4f7f-a697-26d891949381"
      },
      "outputs": [
        {
          "output_type": "execute_result",
          "data": {
            "text/plain": [
              "STATION CODE                        False\n",
              "LOCATIONS                           False\n",
              "STATE                               False\n",
              "Temp                                False\n",
              "D.O. (mg/l)                         False\n",
              "PH                                  False\n",
              "CONDUCTIVITY (µmhos/cm)             False\n",
              "B.O.D. (mg/l)                       False\n",
              "NITRATENAN N+ NITRITENANN (mg/l)    False\n",
              "FECAL COLIFORM (MPN/100ml)          False\n",
              "TOTAL COLIFORM (MPN/100ml)Mean      False\n",
              "year                                False\n",
              "dtype: bool"
            ]
          },
          "metadata": {},
          "execution_count": 33
        }
      ],
      "source": [
        "data.isnull().any()"
      ]
    },
    {
      "cell_type": "code",
      "execution_count": 34,
      "id": "e1069d93",
      "metadata": {
        "colab": {
          "base_uri": "https://localhost:8080/"
        },
        "id": "e1069d93",
        "outputId": "01f04311-cf23-4d78-d78c-e467161b5eba"
      },
      "outputs": [
        {
          "output_type": "execute_result",
          "data": {
            "text/plain": [
              "STATION CODE                        0\n",
              "LOCATIONS                           0\n",
              "STATE                               0\n",
              "Temp                                0\n",
              "D.O. (mg/l)                         0\n",
              "PH                                  0\n",
              "CONDUCTIVITY (µmhos/cm)             0\n",
              "B.O.D. (mg/l)                       0\n",
              "NITRATENAN N+ NITRITENANN (mg/l)    0\n",
              "FECAL COLIFORM (MPN/100ml)          0\n",
              "TOTAL COLIFORM (MPN/100ml)Mean      0\n",
              "year                                0\n",
              "dtype: int64"
            ]
          },
          "metadata": {},
          "execution_count": 34
        }
      ],
      "source": [
        "data.isnull().sum()"
      ]
    },
    {
      "cell_type": "markdown",
      "id": "e7fab631",
      "metadata": {
        "id": "e7fab631"
      },
      "source": []
    },
    {
      "cell_type": "code",
      "execution_count": 35,
      "id": "3f20582d",
      "metadata": {
        "colab": {
          "base_uri": "https://localhost:8080/",
          "height": 513
        },
        "id": "3f20582d",
        "outputId": "a77e5e3d-edbc-4720-b5e4-4e9eeb8b41c6"
      },
      "outputs": [
        {
          "output_type": "execute_result",
          "data": {
            "text/plain": [
              "  STATION CODE                                          LOCATIONS  \\\n",
              "0         1393               DAMANGANGA AT D/S OF MADHUBAN, DAMAN   \n",
              "1         1399  ZUARI AT D/S OF PT. WHERE KUMBARJRIA CANAL JOI...   \n",
              "2         1475                                ZUARI AT PANCHAWADI   \n",
              "3         3181                        RIVER ZUARI AT BORIM BRIDGE   \n",
              "4         3182                       RIVER ZUARI AT MARCAIM JETTY   \n",
              "\n",
              "         STATE  Temp  D.O. (mg/l)   PH  CONDUCTIVITY (µmhos/cm)  \\\n",
              "0  DAMAN & DIU  30.6          6.7  7.5                    203.0   \n",
              "1          GOA  29.8          5.7  7.2                    189.0   \n",
              "2          GOA  29.5          6.3  6.9                    179.0   \n",
              "3          GOA  29.7          5.8  6.9                     64.0   \n",
              "4          GOA  29.5          5.8  7.3                     83.0   \n",
              "\n",
              "   B.O.D. (mg/l)  NITRATENAN N+ NITRITENANN (mg/l) FECAL COLIFORM (MPN/100ml)  \\\n",
              "0       6.940049                               0.1                         11   \n",
              "1       2.000000                               0.2                       4953   \n",
              "2       1.700000                               0.1                       3243   \n",
              "3       3.800000                               0.5                       5382   \n",
              "4       1.900000                               0.4                       3428   \n",
              "\n",
              "   TOTAL COLIFORM (MPN/100ml)Mean  year  \n",
              "0                            27.0  2014  \n",
              "1                          8391.0  2014  \n",
              "2                          5330.0  2014  \n",
              "3                          8443.0  2014  \n",
              "4                          5500.0  2014  "
            ],
            "text/html": [
              "\n",
              "  <div id=\"df-8c2d8d7e-c513-43be-9df6-2d31f7f01d5b\">\n",
              "    <div class=\"colab-df-container\">\n",
              "      <div>\n",
              "<style scoped>\n",
              "    .dataframe tbody tr th:only-of-type {\n",
              "        vertical-align: middle;\n",
              "    }\n",
              "\n",
              "    .dataframe tbody tr th {\n",
              "        vertical-align: top;\n",
              "    }\n",
              "\n",
              "    .dataframe thead th {\n",
              "        text-align: right;\n",
              "    }\n",
              "</style>\n",
              "<table border=\"1\" class=\"dataframe\">\n",
              "  <thead>\n",
              "    <tr style=\"text-align: right;\">\n",
              "      <th></th>\n",
              "      <th>STATION CODE</th>\n",
              "      <th>LOCATIONS</th>\n",
              "      <th>STATE</th>\n",
              "      <th>Temp</th>\n",
              "      <th>D.O. (mg/l)</th>\n",
              "      <th>PH</th>\n",
              "      <th>CONDUCTIVITY (µmhos/cm)</th>\n",
              "      <th>B.O.D. (mg/l)</th>\n",
              "      <th>NITRATENAN N+ NITRITENANN (mg/l)</th>\n",
              "      <th>FECAL COLIFORM (MPN/100ml)</th>\n",
              "      <th>TOTAL COLIFORM (MPN/100ml)Mean</th>\n",
              "      <th>year</th>\n",
              "    </tr>\n",
              "  </thead>\n",
              "  <tbody>\n",
              "    <tr>\n",
              "      <th>0</th>\n",
              "      <td>1393</td>\n",
              "      <td>DAMANGANGA AT D/S OF MADHUBAN, DAMAN</td>\n",
              "      <td>DAMAN &amp; DIU</td>\n",
              "      <td>30.6</td>\n",
              "      <td>6.7</td>\n",
              "      <td>7.5</td>\n",
              "      <td>203.0</td>\n",
              "      <td>6.940049</td>\n",
              "      <td>0.1</td>\n",
              "      <td>11</td>\n",
              "      <td>27.0</td>\n",
              "      <td>2014</td>\n",
              "    </tr>\n",
              "    <tr>\n",
              "      <th>1</th>\n",
              "      <td>1399</td>\n",
              "      <td>ZUARI AT D/S OF PT. WHERE KUMBARJRIA CANAL JOI...</td>\n",
              "      <td>GOA</td>\n",
              "      <td>29.8</td>\n",
              "      <td>5.7</td>\n",
              "      <td>7.2</td>\n",
              "      <td>189.0</td>\n",
              "      <td>2.000000</td>\n",
              "      <td>0.2</td>\n",
              "      <td>4953</td>\n",
              "      <td>8391.0</td>\n",
              "      <td>2014</td>\n",
              "    </tr>\n",
              "    <tr>\n",
              "      <th>2</th>\n",
              "      <td>1475</td>\n",
              "      <td>ZUARI AT PANCHAWADI</td>\n",
              "      <td>GOA</td>\n",
              "      <td>29.5</td>\n",
              "      <td>6.3</td>\n",
              "      <td>6.9</td>\n",
              "      <td>179.0</td>\n",
              "      <td>1.700000</td>\n",
              "      <td>0.1</td>\n",
              "      <td>3243</td>\n",
              "      <td>5330.0</td>\n",
              "      <td>2014</td>\n",
              "    </tr>\n",
              "    <tr>\n",
              "      <th>3</th>\n",
              "      <td>3181</td>\n",
              "      <td>RIVER ZUARI AT BORIM BRIDGE</td>\n",
              "      <td>GOA</td>\n",
              "      <td>29.7</td>\n",
              "      <td>5.8</td>\n",
              "      <td>6.9</td>\n",
              "      <td>64.0</td>\n",
              "      <td>3.800000</td>\n",
              "      <td>0.5</td>\n",
              "      <td>5382</td>\n",
              "      <td>8443.0</td>\n",
              "      <td>2014</td>\n",
              "    </tr>\n",
              "    <tr>\n",
              "      <th>4</th>\n",
              "      <td>3182</td>\n",
              "      <td>RIVER ZUARI AT MARCAIM JETTY</td>\n",
              "      <td>GOA</td>\n",
              "      <td>29.5</td>\n",
              "      <td>5.8</td>\n",
              "      <td>7.3</td>\n",
              "      <td>83.0</td>\n",
              "      <td>1.900000</td>\n",
              "      <td>0.4</td>\n",
              "      <td>3428</td>\n",
              "      <td>5500.0</td>\n",
              "      <td>2014</td>\n",
              "    </tr>\n",
              "  </tbody>\n",
              "</table>\n",
              "</div>\n",
              "      <button class=\"colab-df-convert\" onclick=\"convertToInteractive('df-8c2d8d7e-c513-43be-9df6-2d31f7f01d5b')\"\n",
              "              title=\"Convert this dataframe to an interactive table.\"\n",
              "              style=\"display:none;\">\n",
              "        \n",
              "  <svg xmlns=\"http://www.w3.org/2000/svg\" height=\"24px\"viewBox=\"0 0 24 24\"\n",
              "       width=\"24px\">\n",
              "    <path d=\"M0 0h24v24H0V0z\" fill=\"none\"/>\n",
              "    <path d=\"M18.56 5.44l.94 2.06.94-2.06 2.06-.94-2.06-.94-.94-2.06-.94 2.06-2.06.94zm-11 1L8.5 8.5l.94-2.06 2.06-.94-2.06-.94L8.5 2.5l-.94 2.06-2.06.94zm10 10l.94 2.06.94-2.06 2.06-.94-2.06-.94-.94-2.06-.94 2.06-2.06.94z\"/><path d=\"M17.41 7.96l-1.37-1.37c-.4-.4-.92-.59-1.43-.59-.52 0-1.04.2-1.43.59L10.3 9.45l-7.72 7.72c-.78.78-.78 2.05 0 2.83L4 21.41c.39.39.9.59 1.41.59.51 0 1.02-.2 1.41-.59l7.78-7.78 2.81-2.81c.8-.78.8-2.07 0-2.86zM5.41 20L4 18.59l7.72-7.72 1.47 1.35L5.41 20z\"/>\n",
              "  </svg>\n",
              "      </button>\n",
              "      \n",
              "  <style>\n",
              "    .colab-df-container {\n",
              "      display:flex;\n",
              "      flex-wrap:wrap;\n",
              "      gap: 12px;\n",
              "    }\n",
              "\n",
              "    .colab-df-convert {\n",
              "      background-color: #E8F0FE;\n",
              "      border: none;\n",
              "      border-radius: 50%;\n",
              "      cursor: pointer;\n",
              "      display: none;\n",
              "      fill: #1967D2;\n",
              "      height: 32px;\n",
              "      padding: 0 0 0 0;\n",
              "      width: 32px;\n",
              "    }\n",
              "\n",
              "    .colab-df-convert:hover {\n",
              "      background-color: #E2EBFA;\n",
              "      box-shadow: 0px 1px 2px rgba(60, 64, 67, 0.3), 0px 1px 3px 1px rgba(60, 64, 67, 0.15);\n",
              "      fill: #174EA6;\n",
              "    }\n",
              "\n",
              "    [theme=dark] .colab-df-convert {\n",
              "      background-color: #3B4455;\n",
              "      fill: #D2E3FC;\n",
              "    }\n",
              "\n",
              "    [theme=dark] .colab-df-convert:hover {\n",
              "      background-color: #434B5C;\n",
              "      box-shadow: 0px 1px 3px 1px rgba(0, 0, 0, 0.15);\n",
              "      filter: drop-shadow(0px 1px 2px rgba(0, 0, 0, 0.3));\n",
              "      fill: #FFFFFF;\n",
              "    }\n",
              "  </style>\n",
              "\n",
              "      <script>\n",
              "        const buttonEl =\n",
              "          document.querySelector('#df-8c2d8d7e-c513-43be-9df6-2d31f7f01d5b button.colab-df-convert');\n",
              "        buttonEl.style.display =\n",
              "          google.colab.kernel.accessAllowed ? 'block' : 'none';\n",
              "\n",
              "        async function convertToInteractive(key) {\n",
              "          const element = document.querySelector('#df-8c2d8d7e-c513-43be-9df6-2d31f7f01d5b');\n",
              "          const dataTable =\n",
              "            await google.colab.kernel.invokeFunction('convertToInteractive',\n",
              "                                                     [key], {});\n",
              "          if (!dataTable) return;\n",
              "\n",
              "          const docLinkHtml = 'Like what you see? Visit the ' +\n",
              "            '<a target=\"_blank\" href=https://colab.research.google.com/notebooks/data_table.ipynb>data table notebook</a>'\n",
              "            + ' to learn more about interactive tables.';\n",
              "          element.innerHTML = '';\n",
              "          dataTable['output_type'] = 'display_data';\n",
              "          await google.colab.output.renderOutput(dataTable, element);\n",
              "          const docLink = document.createElement('div');\n",
              "          docLink.innerHTML = docLinkHtml;\n",
              "          element.appendChild(docLink);\n",
              "        }\n",
              "      </script>\n",
              "    </div>\n",
              "  </div>\n",
              "  "
            ]
          },
          "metadata": {},
          "execution_count": 35
        }
      ],
      "source": [
        "data.head()"
      ]
    },
    {
      "cell_type": "code",
      "execution_count": 36,
      "id": "40c862b7",
      "metadata": {
        "id": "40c862b7"
      },
      "outputs": [],
      "source": [
        "data.drop([\"FECAL COLIFORM (MPN/100ml)\"],axis=1,inplace=True)"
      ]
    },
    {
      "cell_type": "code",
      "execution_count": 37,
      "id": "19444d6d",
      "metadata": {
        "colab": {
          "base_uri": "https://localhost:8080/",
          "height": 441
        },
        "id": "19444d6d",
        "outputId": "7f11b7f1-7d31-490c-afaf-286beea9cc16"
      },
      "outputs": [
        {
          "output_type": "execute_result",
          "data": {
            "text/plain": [
              "  STATION CODE                                          LOCATIONS  \\\n",
              "0         1393               DAMANGANGA AT D/S OF MADHUBAN, DAMAN   \n",
              "1         1399  ZUARI AT D/S OF PT. WHERE KUMBARJRIA CANAL JOI...   \n",
              "2         1475                                ZUARI AT PANCHAWADI   \n",
              "3         3181                        RIVER ZUARI AT BORIM BRIDGE   \n",
              "4         3182                       RIVER ZUARI AT MARCAIM JETTY   \n",
              "\n",
              "         STATE  Temp  D.O. (mg/l)   PH  CONDUCTIVITY (µmhos/cm)  \\\n",
              "0  DAMAN & DIU  30.6          6.7  7.5                    203.0   \n",
              "1          GOA  29.8          5.7  7.2                    189.0   \n",
              "2          GOA  29.5          6.3  6.9                    179.0   \n",
              "3          GOA  29.7          5.8  6.9                     64.0   \n",
              "4          GOA  29.5          5.8  7.3                     83.0   \n",
              "\n",
              "   B.O.D. (mg/l)  NITRATENAN N+ NITRITENANN (mg/l)  \\\n",
              "0       6.940049                               0.1   \n",
              "1       2.000000                               0.2   \n",
              "2       1.700000                               0.1   \n",
              "3       3.800000                               0.5   \n",
              "4       1.900000                               0.4   \n",
              "\n",
              "   TOTAL COLIFORM (MPN/100ml)Mean  year  \n",
              "0                            27.0  2014  \n",
              "1                          8391.0  2014  \n",
              "2                          5330.0  2014  \n",
              "3                          8443.0  2014  \n",
              "4                          5500.0  2014  "
            ],
            "text/html": [
              "\n",
              "  <div id=\"df-58c61343-49e1-452d-969b-0c83bafb6aba\">\n",
              "    <div class=\"colab-df-container\">\n",
              "      <div>\n",
              "<style scoped>\n",
              "    .dataframe tbody tr th:only-of-type {\n",
              "        vertical-align: middle;\n",
              "    }\n",
              "\n",
              "    .dataframe tbody tr th {\n",
              "        vertical-align: top;\n",
              "    }\n",
              "\n",
              "    .dataframe thead th {\n",
              "        text-align: right;\n",
              "    }\n",
              "</style>\n",
              "<table border=\"1\" class=\"dataframe\">\n",
              "  <thead>\n",
              "    <tr style=\"text-align: right;\">\n",
              "      <th></th>\n",
              "      <th>STATION CODE</th>\n",
              "      <th>LOCATIONS</th>\n",
              "      <th>STATE</th>\n",
              "      <th>Temp</th>\n",
              "      <th>D.O. (mg/l)</th>\n",
              "      <th>PH</th>\n",
              "      <th>CONDUCTIVITY (µmhos/cm)</th>\n",
              "      <th>B.O.D. (mg/l)</th>\n",
              "      <th>NITRATENAN N+ NITRITENANN (mg/l)</th>\n",
              "      <th>TOTAL COLIFORM (MPN/100ml)Mean</th>\n",
              "      <th>year</th>\n",
              "    </tr>\n",
              "  </thead>\n",
              "  <tbody>\n",
              "    <tr>\n",
              "      <th>0</th>\n",
              "      <td>1393</td>\n",
              "      <td>DAMANGANGA AT D/S OF MADHUBAN, DAMAN</td>\n",
              "      <td>DAMAN &amp; DIU</td>\n",
              "      <td>30.6</td>\n",
              "      <td>6.7</td>\n",
              "      <td>7.5</td>\n",
              "      <td>203.0</td>\n",
              "      <td>6.940049</td>\n",
              "      <td>0.1</td>\n",
              "      <td>27.0</td>\n",
              "      <td>2014</td>\n",
              "    </tr>\n",
              "    <tr>\n",
              "      <th>1</th>\n",
              "      <td>1399</td>\n",
              "      <td>ZUARI AT D/S OF PT. WHERE KUMBARJRIA CANAL JOI...</td>\n",
              "      <td>GOA</td>\n",
              "      <td>29.8</td>\n",
              "      <td>5.7</td>\n",
              "      <td>7.2</td>\n",
              "      <td>189.0</td>\n",
              "      <td>2.000000</td>\n",
              "      <td>0.2</td>\n",
              "      <td>8391.0</td>\n",
              "      <td>2014</td>\n",
              "    </tr>\n",
              "    <tr>\n",
              "      <th>2</th>\n",
              "      <td>1475</td>\n",
              "      <td>ZUARI AT PANCHAWADI</td>\n",
              "      <td>GOA</td>\n",
              "      <td>29.5</td>\n",
              "      <td>6.3</td>\n",
              "      <td>6.9</td>\n",
              "      <td>179.0</td>\n",
              "      <td>1.700000</td>\n",
              "      <td>0.1</td>\n",
              "      <td>5330.0</td>\n",
              "      <td>2014</td>\n",
              "    </tr>\n",
              "    <tr>\n",
              "      <th>3</th>\n",
              "      <td>3181</td>\n",
              "      <td>RIVER ZUARI AT BORIM BRIDGE</td>\n",
              "      <td>GOA</td>\n",
              "      <td>29.7</td>\n",
              "      <td>5.8</td>\n",
              "      <td>6.9</td>\n",
              "      <td>64.0</td>\n",
              "      <td>3.800000</td>\n",
              "      <td>0.5</td>\n",
              "      <td>8443.0</td>\n",
              "      <td>2014</td>\n",
              "    </tr>\n",
              "    <tr>\n",
              "      <th>4</th>\n",
              "      <td>3182</td>\n",
              "      <td>RIVER ZUARI AT MARCAIM JETTY</td>\n",
              "      <td>GOA</td>\n",
              "      <td>29.5</td>\n",
              "      <td>5.8</td>\n",
              "      <td>7.3</td>\n",
              "      <td>83.0</td>\n",
              "      <td>1.900000</td>\n",
              "      <td>0.4</td>\n",
              "      <td>5500.0</td>\n",
              "      <td>2014</td>\n",
              "    </tr>\n",
              "  </tbody>\n",
              "</table>\n",
              "</div>\n",
              "      <button class=\"colab-df-convert\" onclick=\"convertToInteractive('df-58c61343-49e1-452d-969b-0c83bafb6aba')\"\n",
              "              title=\"Convert this dataframe to an interactive table.\"\n",
              "              style=\"display:none;\">\n",
              "        \n",
              "  <svg xmlns=\"http://www.w3.org/2000/svg\" height=\"24px\"viewBox=\"0 0 24 24\"\n",
              "       width=\"24px\">\n",
              "    <path d=\"M0 0h24v24H0V0z\" fill=\"none\"/>\n",
              "    <path d=\"M18.56 5.44l.94 2.06.94-2.06 2.06-.94-2.06-.94-.94-2.06-.94 2.06-2.06.94zm-11 1L8.5 8.5l.94-2.06 2.06-.94-2.06-.94L8.5 2.5l-.94 2.06-2.06.94zm10 10l.94 2.06.94-2.06 2.06-.94-2.06-.94-.94-2.06-.94 2.06-2.06.94z\"/><path d=\"M17.41 7.96l-1.37-1.37c-.4-.4-.92-.59-1.43-.59-.52 0-1.04.2-1.43.59L10.3 9.45l-7.72 7.72c-.78.78-.78 2.05 0 2.83L4 21.41c.39.39.9.59 1.41.59.51 0 1.02-.2 1.41-.59l7.78-7.78 2.81-2.81c.8-.78.8-2.07 0-2.86zM5.41 20L4 18.59l7.72-7.72 1.47 1.35L5.41 20z\"/>\n",
              "  </svg>\n",
              "      </button>\n",
              "      \n",
              "  <style>\n",
              "    .colab-df-container {\n",
              "      display:flex;\n",
              "      flex-wrap:wrap;\n",
              "      gap: 12px;\n",
              "    }\n",
              "\n",
              "    .colab-df-convert {\n",
              "      background-color: #E8F0FE;\n",
              "      border: none;\n",
              "      border-radius: 50%;\n",
              "      cursor: pointer;\n",
              "      display: none;\n",
              "      fill: #1967D2;\n",
              "      height: 32px;\n",
              "      padding: 0 0 0 0;\n",
              "      width: 32px;\n",
              "    }\n",
              "\n",
              "    .colab-df-convert:hover {\n",
              "      background-color: #E2EBFA;\n",
              "      box-shadow: 0px 1px 2px rgba(60, 64, 67, 0.3), 0px 1px 3px 1px rgba(60, 64, 67, 0.15);\n",
              "      fill: #174EA6;\n",
              "    }\n",
              "\n",
              "    [theme=dark] .colab-df-convert {\n",
              "      background-color: #3B4455;\n",
              "      fill: #D2E3FC;\n",
              "    }\n",
              "\n",
              "    [theme=dark] .colab-df-convert:hover {\n",
              "      background-color: #434B5C;\n",
              "      box-shadow: 0px 1px 3px 1px rgba(0, 0, 0, 0.15);\n",
              "      filter: drop-shadow(0px 1px 2px rgba(0, 0, 0, 0.3));\n",
              "      fill: #FFFFFF;\n",
              "    }\n",
              "  </style>\n",
              "\n",
              "      <script>\n",
              "        const buttonEl =\n",
              "          document.querySelector('#df-58c61343-49e1-452d-969b-0c83bafb6aba button.colab-df-convert');\n",
              "        buttonEl.style.display =\n",
              "          google.colab.kernel.accessAllowed ? 'block' : 'none';\n",
              "\n",
              "        async function convertToInteractive(key) {\n",
              "          const element = document.querySelector('#df-58c61343-49e1-452d-969b-0c83bafb6aba');\n",
              "          const dataTable =\n",
              "            await google.colab.kernel.invokeFunction('convertToInteractive',\n",
              "                                                     [key], {});\n",
              "          if (!dataTable) return;\n",
              "\n",
              "          const docLinkHtml = 'Like what you see? Visit the ' +\n",
              "            '<a target=\"_blank\" href=https://colab.research.google.com/notebooks/data_table.ipynb>data table notebook</a>'\n",
              "            + ' to learn more about interactive tables.';\n",
              "          element.innerHTML = '';\n",
              "          dataTable['output_type'] = 'display_data';\n",
              "          await google.colab.output.renderOutput(dataTable, element);\n",
              "          const docLink = document.createElement('div');\n",
              "          docLink.innerHTML = docLinkHtml;\n",
              "          element.appendChild(docLink);\n",
              "        }\n",
              "      </script>\n",
              "    </div>\n",
              "  </div>\n",
              "  "
            ]
          },
          "metadata": {},
          "execution_count": 37
        }
      ],
      "source": [
        "data.head()"
      ]
    },
    {
      "cell_type": "markdown",
      "id": "19ebeea2",
      "metadata": {
        "id": "19ebeea2"
      },
      "source": [
        "# Renaming The Column Names "
      ]
    },
    {
      "cell_type": "code",
      "execution_count": 38,
      "id": "86df8b3f",
      "metadata": {
        "id": "86df8b3f"
      },
      "outputs": [],
      "source": [
        "data=data.rename(columns = {'D.O. (mg/l)':'do'})\n",
        "data=data.rename(columns = {'CONDUCTIVITY (µmhos/cm)':'co'})\n",
        "data=data.rename(columns = {'B.O.D. (mg/l)':'bod'})\n",
        "data=data.rename(columns = {'NITRATENAN N+ NITRITENANN (mg/l)':'na'})\n",
        "data=data.rename(columns =  {'TOTAL COLIFORM (MPN/100ml)Mean':'tc'})\n",
        "data=data.rename(columns =  {'STATION CODE':'station'})\n",
        "data=data.rename(columns =  {'LOCATIONS':'location'})\n",
        "data=data.rename(columns =  {'STATE':'state'})\n",
        "data=data.rename(columns =  {'PH':'ph'})"
      ]
    },
    {
      "cell_type": "code",
      "execution_count": 39,
      "id": "a070c373",
      "metadata": {
        "colab": {
          "base_uri": "https://localhost:8080/",
          "height": 285
        },
        "id": "a070c373",
        "outputId": "acbcc90e-3239-4e2f-a682-87127dd9df18"
      },
      "outputs": [
        {
          "output_type": "execute_result",
          "data": {
            "text/plain": [
              "  station                                           location        state  \\\n",
              "0    1393               DAMANGANGA AT D/S OF MADHUBAN, DAMAN  DAMAN & DIU   \n",
              "1    1399  ZUARI AT D/S OF PT. WHERE KUMBARJRIA CANAL JOI...          GOA   \n",
              "2    1475                                ZUARI AT PANCHAWADI          GOA   \n",
              "3    3181                        RIVER ZUARI AT BORIM BRIDGE          GOA   \n",
              "4    3182                       RIVER ZUARI AT MARCAIM JETTY          GOA   \n",
              "\n",
              "   Temp   do   ph     co       bod   na      tc  year  \n",
              "0  30.6  6.7  7.5  203.0  6.940049  0.1    27.0  2014  \n",
              "1  29.8  5.7  7.2  189.0  2.000000  0.2  8391.0  2014  \n",
              "2  29.5  6.3  6.9  179.0  1.700000  0.1  5330.0  2014  \n",
              "3  29.7  5.8  6.9   64.0  3.800000  0.5  8443.0  2014  \n",
              "4  29.5  5.8  7.3   83.0  1.900000  0.4  5500.0  2014  "
            ],
            "text/html": [
              "\n",
              "  <div id=\"df-8ce80e65-8547-4e01-91c8-60d7130819f5\">\n",
              "    <div class=\"colab-df-container\">\n",
              "      <div>\n",
              "<style scoped>\n",
              "    .dataframe tbody tr th:only-of-type {\n",
              "        vertical-align: middle;\n",
              "    }\n",
              "\n",
              "    .dataframe tbody tr th {\n",
              "        vertical-align: top;\n",
              "    }\n",
              "\n",
              "    .dataframe thead th {\n",
              "        text-align: right;\n",
              "    }\n",
              "</style>\n",
              "<table border=\"1\" class=\"dataframe\">\n",
              "  <thead>\n",
              "    <tr style=\"text-align: right;\">\n",
              "      <th></th>\n",
              "      <th>station</th>\n",
              "      <th>location</th>\n",
              "      <th>state</th>\n",
              "      <th>Temp</th>\n",
              "      <th>do</th>\n",
              "      <th>ph</th>\n",
              "      <th>co</th>\n",
              "      <th>bod</th>\n",
              "      <th>na</th>\n",
              "      <th>tc</th>\n",
              "      <th>year</th>\n",
              "    </tr>\n",
              "  </thead>\n",
              "  <tbody>\n",
              "    <tr>\n",
              "      <th>0</th>\n",
              "      <td>1393</td>\n",
              "      <td>DAMANGANGA AT D/S OF MADHUBAN, DAMAN</td>\n",
              "      <td>DAMAN &amp; DIU</td>\n",
              "      <td>30.6</td>\n",
              "      <td>6.7</td>\n",
              "      <td>7.5</td>\n",
              "      <td>203.0</td>\n",
              "      <td>6.940049</td>\n",
              "      <td>0.1</td>\n",
              "      <td>27.0</td>\n",
              "      <td>2014</td>\n",
              "    </tr>\n",
              "    <tr>\n",
              "      <th>1</th>\n",
              "      <td>1399</td>\n",
              "      <td>ZUARI AT D/S OF PT. WHERE KUMBARJRIA CANAL JOI...</td>\n",
              "      <td>GOA</td>\n",
              "      <td>29.8</td>\n",
              "      <td>5.7</td>\n",
              "      <td>7.2</td>\n",
              "      <td>189.0</td>\n",
              "      <td>2.000000</td>\n",
              "      <td>0.2</td>\n",
              "      <td>8391.0</td>\n",
              "      <td>2014</td>\n",
              "    </tr>\n",
              "    <tr>\n",
              "      <th>2</th>\n",
              "      <td>1475</td>\n",
              "      <td>ZUARI AT PANCHAWADI</td>\n",
              "      <td>GOA</td>\n",
              "      <td>29.5</td>\n",
              "      <td>6.3</td>\n",
              "      <td>6.9</td>\n",
              "      <td>179.0</td>\n",
              "      <td>1.700000</td>\n",
              "      <td>0.1</td>\n",
              "      <td>5330.0</td>\n",
              "      <td>2014</td>\n",
              "    </tr>\n",
              "    <tr>\n",
              "      <th>3</th>\n",
              "      <td>3181</td>\n",
              "      <td>RIVER ZUARI AT BORIM BRIDGE</td>\n",
              "      <td>GOA</td>\n",
              "      <td>29.7</td>\n",
              "      <td>5.8</td>\n",
              "      <td>6.9</td>\n",
              "      <td>64.0</td>\n",
              "      <td>3.800000</td>\n",
              "      <td>0.5</td>\n",
              "      <td>8443.0</td>\n",
              "      <td>2014</td>\n",
              "    </tr>\n",
              "    <tr>\n",
              "      <th>4</th>\n",
              "      <td>3182</td>\n",
              "      <td>RIVER ZUARI AT MARCAIM JETTY</td>\n",
              "      <td>GOA</td>\n",
              "      <td>29.5</td>\n",
              "      <td>5.8</td>\n",
              "      <td>7.3</td>\n",
              "      <td>83.0</td>\n",
              "      <td>1.900000</td>\n",
              "      <td>0.4</td>\n",
              "      <td>5500.0</td>\n",
              "      <td>2014</td>\n",
              "    </tr>\n",
              "  </tbody>\n",
              "</table>\n",
              "</div>\n",
              "      <button class=\"colab-df-convert\" onclick=\"convertToInteractive('df-8ce80e65-8547-4e01-91c8-60d7130819f5')\"\n",
              "              title=\"Convert this dataframe to an interactive table.\"\n",
              "              style=\"display:none;\">\n",
              "        \n",
              "  <svg xmlns=\"http://www.w3.org/2000/svg\" height=\"24px\"viewBox=\"0 0 24 24\"\n",
              "       width=\"24px\">\n",
              "    <path d=\"M0 0h24v24H0V0z\" fill=\"none\"/>\n",
              "    <path d=\"M18.56 5.44l.94 2.06.94-2.06 2.06-.94-2.06-.94-.94-2.06-.94 2.06-2.06.94zm-11 1L8.5 8.5l.94-2.06 2.06-.94-2.06-.94L8.5 2.5l-.94 2.06-2.06.94zm10 10l.94 2.06.94-2.06 2.06-.94-2.06-.94-.94-2.06-.94 2.06-2.06.94z\"/><path d=\"M17.41 7.96l-1.37-1.37c-.4-.4-.92-.59-1.43-.59-.52 0-1.04.2-1.43.59L10.3 9.45l-7.72 7.72c-.78.78-.78 2.05 0 2.83L4 21.41c.39.39.9.59 1.41.59.51 0 1.02-.2 1.41-.59l7.78-7.78 2.81-2.81c.8-.78.8-2.07 0-2.86zM5.41 20L4 18.59l7.72-7.72 1.47 1.35L5.41 20z\"/>\n",
              "  </svg>\n",
              "      </button>\n",
              "      \n",
              "  <style>\n",
              "    .colab-df-container {\n",
              "      display:flex;\n",
              "      flex-wrap:wrap;\n",
              "      gap: 12px;\n",
              "    }\n",
              "\n",
              "    .colab-df-convert {\n",
              "      background-color: #E8F0FE;\n",
              "      border: none;\n",
              "      border-radius: 50%;\n",
              "      cursor: pointer;\n",
              "      display: none;\n",
              "      fill: #1967D2;\n",
              "      height: 32px;\n",
              "      padding: 0 0 0 0;\n",
              "      width: 32px;\n",
              "    }\n",
              "\n",
              "    .colab-df-convert:hover {\n",
              "      background-color: #E2EBFA;\n",
              "      box-shadow: 0px 1px 2px rgba(60, 64, 67, 0.3), 0px 1px 3px 1px rgba(60, 64, 67, 0.15);\n",
              "      fill: #174EA6;\n",
              "    }\n",
              "\n",
              "    [theme=dark] .colab-df-convert {\n",
              "      background-color: #3B4455;\n",
              "      fill: #D2E3FC;\n",
              "    }\n",
              "\n",
              "    [theme=dark] .colab-df-convert:hover {\n",
              "      background-color: #434B5C;\n",
              "      box-shadow: 0px 1px 3px 1px rgba(0, 0, 0, 0.15);\n",
              "      filter: drop-shadow(0px 1px 2px rgba(0, 0, 0, 0.3));\n",
              "      fill: #FFFFFF;\n",
              "    }\n",
              "  </style>\n",
              "\n",
              "      <script>\n",
              "        const buttonEl =\n",
              "          document.querySelector('#df-8ce80e65-8547-4e01-91c8-60d7130819f5 button.colab-df-convert');\n",
              "        buttonEl.style.display =\n",
              "          google.colab.kernel.accessAllowed ? 'block' : 'none';\n",
              "\n",
              "        async function convertToInteractive(key) {\n",
              "          const element = document.querySelector('#df-8ce80e65-8547-4e01-91c8-60d7130819f5');\n",
              "          const dataTable =\n",
              "            await google.colab.kernel.invokeFunction('convertToInteractive',\n",
              "                                                     [key], {});\n",
              "          if (!dataTable) return;\n",
              "\n",
              "          const docLinkHtml = 'Like what you see? Visit the ' +\n",
              "            '<a target=\"_blank\" href=https://colab.research.google.com/notebooks/data_table.ipynb>data table notebook</a>'\n",
              "            + ' to learn more about interactive tables.';\n",
              "          element.innerHTML = '';\n",
              "          dataTable['output_type'] = 'display_data';\n",
              "          await google.colab.output.renderOutput(dataTable, element);\n",
              "          const docLink = document.createElement('div');\n",
              "          docLink.innerHTML = docLinkHtml;\n",
              "          element.appendChild(docLink);\n",
              "        }\n",
              "      </script>\n",
              "    </div>\n",
              "  </div>\n",
              "  "
            ]
          },
          "metadata": {},
          "execution_count": 39
        }
      ],
      "source": [
        "data.head()"
      ]
    },
    {
      "cell_type": "markdown",
      "source": [],
      "metadata": {
        "id": "ysgsfgQf2yUk"
      },
      "id": "ysgsfgQf2yUk"
    },
    {
      "cell_type": "markdown",
      "id": "66060cc5",
      "metadata": {
        "id": "66060cc5"
      },
      "source": [
        "wqi calculation\n"
      ]
    },
    {
      "cell_type": "code",
      "source": [
        "data['npH']=data.ph.apply(lambda x: (100 if (8.5>=x>=7)  \n",
        "                                 else(80 if  (8.6>=x>=8.5) or (6.9>=x>=6.8) \n",
        "                                      else(60 if (8.8>=x>=8.6) or (6.8>=x>=6.7) \n",
        "                                          else(40 if (9>=x>=8.8) or (6.7>=x>=6.5)\n",
        "                                              else 0)))))"
      ],
      "metadata": {
        "id": "X2qD_z1F2y3N"
      },
      "id": "X2qD_z1F2y3N",
      "execution_count": 40,
      "outputs": []
    },
    {
      "cell_type": "code",
      "source": [
        "data['ndo']=data.do.apply(lambda x:(100 if (x>=6)  \n",
        "                                 else(80 if  (6>=x>=5.1) \n",
        "                                      else(60 if (5>=x>=4.1)\n",
        "                                          else(40 if (4>=x>=3) \n",
        "                                              else 0)))))"
      ],
      "metadata": {
        "id": "7uI1-2WJ3Oz7"
      },
      "id": "7uI1-2WJ3Oz7",
      "execution_count": 41,
      "outputs": []
    },
    {
      "cell_type": "code",
      "source": [
        "data['nco']=data.tc.apply(lambda x:(100 if (5>=x>=0)  \n",
        "                                 else(80 if  (50>=x>=5) \n",
        "                                      else(60 if (500>=x>=50)\n",
        "                                          else(40 if (10000>=x>=500) \n",
        "                                              else 0)))))"
      ],
      "metadata": {
        "id": "qtcDL4q43Oot"
      },
      "id": "qtcDL4q43Oot",
      "execution_count": 42,
      "outputs": []
    },
    {
      "cell_type": "code",
      "source": [
        "data['nbdo']=data.bod.apply(lambda x:(100 if (3>=x>=0)  \n",
        "                                 else(80 if  (6>=x>=3) \n",
        "                                      else(60 if (80>=x>=6)\n",
        "                                          else(40 if (125>=x>=80) \n",
        "                                              else 0)))))"
      ],
      "metadata": {
        "id": "vOFf-qFp3OVu"
      },
      "id": "vOFf-qFp3OVu",
      "execution_count": 43,
      "outputs": []
    },
    {
      "cell_type": "code",
      "source": [
        "data['nec']=data.co.apply(lambda x:(100 if (75>=x>=0)  \n",
        "                                 else(80 if  (150>=x>=75) \n",
        "                                      else(60 if (225>=x>=150)\n",
        "                                          else(40 if (300>=x>=225) \n",
        "                                              else 0)))))"
      ],
      "metadata": {
        "id": "RmlI8G9o3hT_"
      },
      "id": "RmlI8G9o3hT_",
      "execution_count": 44,
      "outputs": []
    },
    {
      "cell_type": "code",
      "source": [
        "data['nna']=data.na.apply(lambda x:(100 if (20>=x>=0)  \n",
        "                                 else(80 if  (50>=x>=20) \n",
        "                                      else(60 if (100>=x>=50)\n",
        "                                          else(40 if (200>=x>=100) \n",
        "                                              else 0)))))"
      ],
      "metadata": {
        "id": "TiRH79vG3m1g"
      },
      "id": "TiRH79vG3m1g",
      "execution_count": 45,
      "outputs": []
    },
    {
      "cell_type": "code",
      "source": [
        "data.head()"
      ],
      "metadata": {
        "colab": {
          "base_uri": "https://localhost:8080/",
          "height": 337
        },
        "id": "OfKbTIhd3tYN",
        "outputId": "7ca8cec6-6118-4e55-a14c-62068fc93fb6"
      },
      "id": "OfKbTIhd3tYN",
      "execution_count": 46,
      "outputs": [
        {
          "output_type": "execute_result",
          "data": {
            "text/plain": [
              "  station                                           location        state  \\\n",
              "0    1393               DAMANGANGA AT D/S OF MADHUBAN, DAMAN  DAMAN & DIU   \n",
              "1    1399  ZUARI AT D/S OF PT. WHERE KUMBARJRIA CANAL JOI...          GOA   \n",
              "2    1475                                ZUARI AT PANCHAWADI          GOA   \n",
              "3    3181                        RIVER ZUARI AT BORIM BRIDGE          GOA   \n",
              "4    3182                       RIVER ZUARI AT MARCAIM JETTY          GOA   \n",
              "\n",
              "   Temp   do   ph     co       bod   na      tc  year  npH  ndo  nco  nbdo  \\\n",
              "0  30.6  6.7  7.5  203.0  6.940049  0.1    27.0  2014  100  100   80    60   \n",
              "1  29.8  5.7  7.2  189.0  2.000000  0.2  8391.0  2014  100   80   40   100   \n",
              "2  29.5  6.3  6.9  179.0  1.700000  0.1  5330.0  2014   80  100   40   100   \n",
              "3  29.7  5.8  6.9   64.0  3.800000  0.5  8443.0  2014   80   80   40    80   \n",
              "4  29.5  5.8  7.3   83.0  1.900000  0.4  5500.0  2014  100   80   40   100   \n",
              "\n",
              "   nec  nna  \n",
              "0   60  100  \n",
              "1   60  100  \n",
              "2   60  100  \n",
              "3  100  100  \n",
              "4   80  100  "
            ],
            "text/html": [
              "\n",
              "  <div id=\"df-ffa93ce4-7d7f-4cea-8b27-b6832793b6d0\">\n",
              "    <div class=\"colab-df-container\">\n",
              "      <div>\n",
              "<style scoped>\n",
              "    .dataframe tbody tr th:only-of-type {\n",
              "        vertical-align: middle;\n",
              "    }\n",
              "\n",
              "    .dataframe tbody tr th {\n",
              "        vertical-align: top;\n",
              "    }\n",
              "\n",
              "    .dataframe thead th {\n",
              "        text-align: right;\n",
              "    }\n",
              "</style>\n",
              "<table border=\"1\" class=\"dataframe\">\n",
              "  <thead>\n",
              "    <tr style=\"text-align: right;\">\n",
              "      <th></th>\n",
              "      <th>station</th>\n",
              "      <th>location</th>\n",
              "      <th>state</th>\n",
              "      <th>Temp</th>\n",
              "      <th>do</th>\n",
              "      <th>ph</th>\n",
              "      <th>co</th>\n",
              "      <th>bod</th>\n",
              "      <th>na</th>\n",
              "      <th>tc</th>\n",
              "      <th>year</th>\n",
              "      <th>npH</th>\n",
              "      <th>ndo</th>\n",
              "      <th>nco</th>\n",
              "      <th>nbdo</th>\n",
              "      <th>nec</th>\n",
              "      <th>nna</th>\n",
              "    </tr>\n",
              "  </thead>\n",
              "  <tbody>\n",
              "    <tr>\n",
              "      <th>0</th>\n",
              "      <td>1393</td>\n",
              "      <td>DAMANGANGA AT D/S OF MADHUBAN, DAMAN</td>\n",
              "      <td>DAMAN &amp; DIU</td>\n",
              "      <td>30.6</td>\n",
              "      <td>6.7</td>\n",
              "      <td>7.5</td>\n",
              "      <td>203.0</td>\n",
              "      <td>6.940049</td>\n",
              "      <td>0.1</td>\n",
              "      <td>27.0</td>\n",
              "      <td>2014</td>\n",
              "      <td>100</td>\n",
              "      <td>100</td>\n",
              "      <td>80</td>\n",
              "      <td>60</td>\n",
              "      <td>60</td>\n",
              "      <td>100</td>\n",
              "    </tr>\n",
              "    <tr>\n",
              "      <th>1</th>\n",
              "      <td>1399</td>\n",
              "      <td>ZUARI AT D/S OF PT. WHERE KUMBARJRIA CANAL JOI...</td>\n",
              "      <td>GOA</td>\n",
              "      <td>29.8</td>\n",
              "      <td>5.7</td>\n",
              "      <td>7.2</td>\n",
              "      <td>189.0</td>\n",
              "      <td>2.000000</td>\n",
              "      <td>0.2</td>\n",
              "      <td>8391.0</td>\n",
              "      <td>2014</td>\n",
              "      <td>100</td>\n",
              "      <td>80</td>\n",
              "      <td>40</td>\n",
              "      <td>100</td>\n",
              "      <td>60</td>\n",
              "      <td>100</td>\n",
              "    </tr>\n",
              "    <tr>\n",
              "      <th>2</th>\n",
              "      <td>1475</td>\n",
              "      <td>ZUARI AT PANCHAWADI</td>\n",
              "      <td>GOA</td>\n",
              "      <td>29.5</td>\n",
              "      <td>6.3</td>\n",
              "      <td>6.9</td>\n",
              "      <td>179.0</td>\n",
              "      <td>1.700000</td>\n",
              "      <td>0.1</td>\n",
              "      <td>5330.0</td>\n",
              "      <td>2014</td>\n",
              "      <td>80</td>\n",
              "      <td>100</td>\n",
              "      <td>40</td>\n",
              "      <td>100</td>\n",
              "      <td>60</td>\n",
              "      <td>100</td>\n",
              "    </tr>\n",
              "    <tr>\n",
              "      <th>3</th>\n",
              "      <td>3181</td>\n",
              "      <td>RIVER ZUARI AT BORIM BRIDGE</td>\n",
              "      <td>GOA</td>\n",
              "      <td>29.7</td>\n",
              "      <td>5.8</td>\n",
              "      <td>6.9</td>\n",
              "      <td>64.0</td>\n",
              "      <td>3.800000</td>\n",
              "      <td>0.5</td>\n",
              "      <td>8443.0</td>\n",
              "      <td>2014</td>\n",
              "      <td>80</td>\n",
              "      <td>80</td>\n",
              "      <td>40</td>\n",
              "      <td>80</td>\n",
              "      <td>100</td>\n",
              "      <td>100</td>\n",
              "    </tr>\n",
              "    <tr>\n",
              "      <th>4</th>\n",
              "      <td>3182</td>\n",
              "      <td>RIVER ZUARI AT MARCAIM JETTY</td>\n",
              "      <td>GOA</td>\n",
              "      <td>29.5</td>\n",
              "      <td>5.8</td>\n",
              "      <td>7.3</td>\n",
              "      <td>83.0</td>\n",
              "      <td>1.900000</td>\n",
              "      <td>0.4</td>\n",
              "      <td>5500.0</td>\n",
              "      <td>2014</td>\n",
              "      <td>100</td>\n",
              "      <td>80</td>\n",
              "      <td>40</td>\n",
              "      <td>100</td>\n",
              "      <td>80</td>\n",
              "      <td>100</td>\n",
              "    </tr>\n",
              "  </tbody>\n",
              "</table>\n",
              "</div>\n",
              "      <button class=\"colab-df-convert\" onclick=\"convertToInteractive('df-ffa93ce4-7d7f-4cea-8b27-b6832793b6d0')\"\n",
              "              title=\"Convert this dataframe to an interactive table.\"\n",
              "              style=\"display:none;\">\n",
              "        \n",
              "  <svg xmlns=\"http://www.w3.org/2000/svg\" height=\"24px\"viewBox=\"0 0 24 24\"\n",
              "       width=\"24px\">\n",
              "    <path d=\"M0 0h24v24H0V0z\" fill=\"none\"/>\n",
              "    <path d=\"M18.56 5.44l.94 2.06.94-2.06 2.06-.94-2.06-.94-.94-2.06-.94 2.06-2.06.94zm-11 1L8.5 8.5l.94-2.06 2.06-.94-2.06-.94L8.5 2.5l-.94 2.06-2.06.94zm10 10l.94 2.06.94-2.06 2.06-.94-2.06-.94-.94-2.06-.94 2.06-2.06.94z\"/><path d=\"M17.41 7.96l-1.37-1.37c-.4-.4-.92-.59-1.43-.59-.52 0-1.04.2-1.43.59L10.3 9.45l-7.72 7.72c-.78.78-.78 2.05 0 2.83L4 21.41c.39.39.9.59 1.41.59.51 0 1.02-.2 1.41-.59l7.78-7.78 2.81-2.81c.8-.78.8-2.07 0-2.86zM5.41 20L4 18.59l7.72-7.72 1.47 1.35L5.41 20z\"/>\n",
              "  </svg>\n",
              "      </button>\n",
              "      \n",
              "  <style>\n",
              "    .colab-df-container {\n",
              "      display:flex;\n",
              "      flex-wrap:wrap;\n",
              "      gap: 12px;\n",
              "    }\n",
              "\n",
              "    .colab-df-convert {\n",
              "      background-color: #E8F0FE;\n",
              "      border: none;\n",
              "      border-radius: 50%;\n",
              "      cursor: pointer;\n",
              "      display: none;\n",
              "      fill: #1967D2;\n",
              "      height: 32px;\n",
              "      padding: 0 0 0 0;\n",
              "      width: 32px;\n",
              "    }\n",
              "\n",
              "    .colab-df-convert:hover {\n",
              "      background-color: #E2EBFA;\n",
              "      box-shadow: 0px 1px 2px rgba(60, 64, 67, 0.3), 0px 1px 3px 1px rgba(60, 64, 67, 0.15);\n",
              "      fill: #174EA6;\n",
              "    }\n",
              "\n",
              "    [theme=dark] .colab-df-convert {\n",
              "      background-color: #3B4455;\n",
              "      fill: #D2E3FC;\n",
              "    }\n",
              "\n",
              "    [theme=dark] .colab-df-convert:hover {\n",
              "      background-color: #434B5C;\n",
              "      box-shadow: 0px 1px 3px 1px rgba(0, 0, 0, 0.15);\n",
              "      filter: drop-shadow(0px 1px 2px rgba(0, 0, 0, 0.3));\n",
              "      fill: #FFFFFF;\n",
              "    }\n",
              "  </style>\n",
              "\n",
              "      <script>\n",
              "        const buttonEl =\n",
              "          document.querySelector('#df-ffa93ce4-7d7f-4cea-8b27-b6832793b6d0 button.colab-df-convert');\n",
              "        buttonEl.style.display =\n",
              "          google.colab.kernel.accessAllowed ? 'block' : 'none';\n",
              "\n",
              "        async function convertToInteractive(key) {\n",
              "          const element = document.querySelector('#df-ffa93ce4-7d7f-4cea-8b27-b6832793b6d0');\n",
              "          const dataTable =\n",
              "            await google.colab.kernel.invokeFunction('convertToInteractive',\n",
              "                                                     [key], {});\n",
              "          if (!dataTable) return;\n",
              "\n",
              "          const docLinkHtml = 'Like what you see? Visit the ' +\n",
              "            '<a target=\"_blank\" href=https://colab.research.google.com/notebooks/data_table.ipynb>data table notebook</a>'\n",
              "            + ' to learn more about interactive tables.';\n",
              "          element.innerHTML = '';\n",
              "          dataTable['output_type'] = 'display_data';\n",
              "          await google.colab.output.renderOutput(dataTable, element);\n",
              "          const docLink = document.createElement('div');\n",
              "          docLink.innerHTML = docLinkHtml;\n",
              "          element.appendChild(docLink);\n",
              "        }\n",
              "      </script>\n",
              "    </div>\n",
              "  </div>\n",
              "  "
            ]
          },
          "metadata": {},
          "execution_count": 46
        }
      ]
    },
    {
      "cell_type": "code",
      "source": [
        "data.dtypes"
      ],
      "metadata": {
        "colab": {
          "base_uri": "https://localhost:8080/"
        },
        "id": "PHK0I7zh3xO1",
        "outputId": "87a6fb8a-fd47-4339-c6cf-7d7373854f45"
      },
      "id": "PHK0I7zh3xO1",
      "execution_count": 47,
      "outputs": [
        {
          "output_type": "execute_result",
          "data": {
            "text/plain": [
              "station      object\n",
              "location     object\n",
              "state        object\n",
              "Temp        float64\n",
              "do          float64\n",
              "ph          float64\n",
              "co          float64\n",
              "bod         float64\n",
              "na          float64\n",
              "tc          float64\n",
              "year          int64\n",
              "npH           int64\n",
              "ndo           int64\n",
              "nco           int64\n",
              "nbdo          int64\n",
              "nec           int64\n",
              "nna           int64\n",
              "dtype: object"
            ]
          },
          "metadata": {},
          "execution_count": 47
        }
      ]
    },
    {
      "cell_type": "code",
      "source": [],
      "metadata": {
        "id": "3rrPRNK94ON0"
      },
      "id": "3rrPRNK94ON0",
      "execution_count": null,
      "outputs": []
    },
    {
      "cell_type": "markdown",
      "source": [
        "WATER QUALITY INDEX CALCULATION"
      ],
      "metadata": {
        "id": "YribKvwG4MUH"
      },
      "id": "YribKvwG4MUH"
    },
    {
      "cell_type": "code",
      "source": [
        "data['wph']=data.npH * 0.165\n",
        "data['wdo']=data.ndo * 0.281\n",
        "data['wbdo']=data.nbdo * 0.234\n",
        "data['wec']=data.nec* 0.009\n",
        "data['wna']=data.nna * 0.028\n",
        "data['wco']=data.nco * 0.281\n",
        "data['wqi']=data.wph+data.wdo+data.wbdo+data.wec+data.wna+data.wco "
      ],
      "metadata": {
        "id": "fBDnPGUx35rS"
      },
      "id": "fBDnPGUx35rS",
      "execution_count": 49,
      "outputs": []
    },
    {
      "cell_type": "code",
      "source": [
        "data"
      ],
      "metadata": {
        "colab": {
          "base_uri": "https://localhost:8080/",
          "height": 870
        },
        "id": "sQiaczT_4UqB",
        "outputId": "98d3c87a-9dbc-42bd-f3d2-6e2dddfc2f13"
      },
      "id": "sQiaczT_4UqB",
      "execution_count": 50,
      "outputs": [
        {
          "output_type": "execute_result",
          "data": {
            "text/plain": [
              "     station                                           location        state  \\\n",
              "0       1393               DAMANGANGA AT D/S OF MADHUBAN, DAMAN  DAMAN & DIU   \n",
              "1       1399  ZUARI AT D/S OF PT. WHERE KUMBARJRIA CANAL JOI...          GOA   \n",
              "2       1475                                ZUARI AT PANCHAWADI          GOA   \n",
              "3       3181                        RIVER ZUARI AT BORIM BRIDGE          GOA   \n",
              "4       3182                       RIVER ZUARI AT MARCAIM JETTY          GOA   \n",
              "...      ...                                                ...          ...   \n",
              "1986    1330            TAMBIRAPARANI AT ARUMUGANERI, TAMILNADU          NAN   \n",
              "1987    1450  PALAR AT VANIYAMBADI WATER SUPPLY HEAD WORK, T...          NAN   \n",
              "1988    1403                 GUMTI AT U/S SOUTH TRIPURA,TRIPURA          NAN   \n",
              "1989    1404                GUMTI AT D/S SOUTH TRIPURA, TRIPURA          NAN   \n",
              "1990    1726   CHANDRAPUR, AGARTALA D/S OF HAORA RIVER, TRIPURA          NAN   \n",
              "\n",
              "           Temp   do     ph     co       bod        na      tc  ...  nbdo  \\\n",
              "0     30.600000  6.7    7.5  203.0  6.940049  0.100000    27.0  ...    60   \n",
              "1     29.800000  5.7    7.2  189.0  2.000000  0.200000  8391.0  ...   100   \n",
              "2     29.500000  6.3    6.9  179.0  1.700000  0.100000  5330.0  ...   100   \n",
              "3     29.700000  5.8    6.9   64.0  3.800000  0.500000  8443.0  ...    80   \n",
              "4     29.500000  5.8    7.3   83.0  1.900000  0.400000  5500.0  ...   100   \n",
              "...         ...  ...    ...    ...       ...       ...     ...  ...   ...   \n",
              "1986  26.209814  7.9  738.0    7.2  2.700000  0.518000   202.0  ...   100   \n",
              "1987  29.000000  7.5  585.0    6.3  2.600000  0.155000   315.0  ...   100   \n",
              "1988  28.000000  7.6   98.0    6.2  1.200000  1.623079   570.0  ...   100   \n",
              "1989  28.000000  7.7   91.0    6.5  1.300000  1.623079   562.0  ...   100   \n",
              "1990  29.000000  7.6  110.0    5.7  1.100000  1.623079   546.0  ...   100   \n",
              "\n",
              "      nec  nna   wph    wdo   wbdo   wec  wna    wco    wqi  \n",
              "0      60  100  16.5  28.10  14.04  0.54  2.8  22.48  84.46  \n",
              "1      60  100  16.5  22.48  23.40  0.54  2.8  11.24  76.96  \n",
              "2      60  100  13.2  28.10  23.40  0.54  2.8  11.24  79.28  \n",
              "3     100  100  13.2  22.48  18.72  0.90  2.8  11.24  69.34  \n",
              "4      80  100  16.5  22.48  23.40  0.72  2.8  11.24  77.14  \n",
              "...   ...  ...   ...    ...    ...   ...  ...    ...    ...  \n",
              "1986  100  100   0.0  28.10  23.40  0.90  2.8  16.86  72.06  \n",
              "1987  100  100   0.0  28.10  23.40  0.90  2.8  16.86  72.06  \n",
              "1988  100  100   0.0  28.10  23.40  0.90  2.8  11.24  66.44  \n",
              "1989  100  100   0.0  28.10  23.40  0.90  2.8  11.24  66.44  \n",
              "1990  100  100   0.0  28.10  23.40  0.90  2.8  11.24  66.44  \n",
              "\n",
              "[1991 rows x 24 columns]"
            ],
            "text/html": [
              "\n",
              "  <div id=\"df-91ed4937-1e50-40ea-8b45-8d3641e3fd10\">\n",
              "    <div class=\"colab-df-container\">\n",
              "      <div>\n",
              "<style scoped>\n",
              "    .dataframe tbody tr th:only-of-type {\n",
              "        vertical-align: middle;\n",
              "    }\n",
              "\n",
              "    .dataframe tbody tr th {\n",
              "        vertical-align: top;\n",
              "    }\n",
              "\n",
              "    .dataframe thead th {\n",
              "        text-align: right;\n",
              "    }\n",
              "</style>\n",
              "<table border=\"1\" class=\"dataframe\">\n",
              "  <thead>\n",
              "    <tr style=\"text-align: right;\">\n",
              "      <th></th>\n",
              "      <th>station</th>\n",
              "      <th>location</th>\n",
              "      <th>state</th>\n",
              "      <th>Temp</th>\n",
              "      <th>do</th>\n",
              "      <th>ph</th>\n",
              "      <th>co</th>\n",
              "      <th>bod</th>\n",
              "      <th>na</th>\n",
              "      <th>tc</th>\n",
              "      <th>...</th>\n",
              "      <th>nbdo</th>\n",
              "      <th>nec</th>\n",
              "      <th>nna</th>\n",
              "      <th>wph</th>\n",
              "      <th>wdo</th>\n",
              "      <th>wbdo</th>\n",
              "      <th>wec</th>\n",
              "      <th>wna</th>\n",
              "      <th>wco</th>\n",
              "      <th>wqi</th>\n",
              "    </tr>\n",
              "  </thead>\n",
              "  <tbody>\n",
              "    <tr>\n",
              "      <th>0</th>\n",
              "      <td>1393</td>\n",
              "      <td>DAMANGANGA AT D/S OF MADHUBAN, DAMAN</td>\n",
              "      <td>DAMAN &amp; DIU</td>\n",
              "      <td>30.600000</td>\n",
              "      <td>6.7</td>\n",
              "      <td>7.5</td>\n",
              "      <td>203.0</td>\n",
              "      <td>6.940049</td>\n",
              "      <td>0.100000</td>\n",
              "      <td>27.0</td>\n",
              "      <td>...</td>\n",
              "      <td>60</td>\n",
              "      <td>60</td>\n",
              "      <td>100</td>\n",
              "      <td>16.5</td>\n",
              "      <td>28.10</td>\n",
              "      <td>14.04</td>\n",
              "      <td>0.54</td>\n",
              "      <td>2.8</td>\n",
              "      <td>22.48</td>\n",
              "      <td>84.46</td>\n",
              "    </tr>\n",
              "    <tr>\n",
              "      <th>1</th>\n",
              "      <td>1399</td>\n",
              "      <td>ZUARI AT D/S OF PT. WHERE KUMBARJRIA CANAL JOI...</td>\n",
              "      <td>GOA</td>\n",
              "      <td>29.800000</td>\n",
              "      <td>5.7</td>\n",
              "      <td>7.2</td>\n",
              "      <td>189.0</td>\n",
              "      <td>2.000000</td>\n",
              "      <td>0.200000</td>\n",
              "      <td>8391.0</td>\n",
              "      <td>...</td>\n",
              "      <td>100</td>\n",
              "      <td>60</td>\n",
              "      <td>100</td>\n",
              "      <td>16.5</td>\n",
              "      <td>22.48</td>\n",
              "      <td>23.40</td>\n",
              "      <td>0.54</td>\n",
              "      <td>2.8</td>\n",
              "      <td>11.24</td>\n",
              "      <td>76.96</td>\n",
              "    </tr>\n",
              "    <tr>\n",
              "      <th>2</th>\n",
              "      <td>1475</td>\n",
              "      <td>ZUARI AT PANCHAWADI</td>\n",
              "      <td>GOA</td>\n",
              "      <td>29.500000</td>\n",
              "      <td>6.3</td>\n",
              "      <td>6.9</td>\n",
              "      <td>179.0</td>\n",
              "      <td>1.700000</td>\n",
              "      <td>0.100000</td>\n",
              "      <td>5330.0</td>\n",
              "      <td>...</td>\n",
              "      <td>100</td>\n",
              "      <td>60</td>\n",
              "      <td>100</td>\n",
              "      <td>13.2</td>\n",
              "      <td>28.10</td>\n",
              "      <td>23.40</td>\n",
              "      <td>0.54</td>\n",
              "      <td>2.8</td>\n",
              "      <td>11.24</td>\n",
              "      <td>79.28</td>\n",
              "    </tr>\n",
              "    <tr>\n",
              "      <th>3</th>\n",
              "      <td>3181</td>\n",
              "      <td>RIVER ZUARI AT BORIM BRIDGE</td>\n",
              "      <td>GOA</td>\n",
              "      <td>29.700000</td>\n",
              "      <td>5.8</td>\n",
              "      <td>6.9</td>\n",
              "      <td>64.0</td>\n",
              "      <td>3.800000</td>\n",
              "      <td>0.500000</td>\n",
              "      <td>8443.0</td>\n",
              "      <td>...</td>\n",
              "      <td>80</td>\n",
              "      <td>100</td>\n",
              "      <td>100</td>\n",
              "      <td>13.2</td>\n",
              "      <td>22.48</td>\n",
              "      <td>18.72</td>\n",
              "      <td>0.90</td>\n",
              "      <td>2.8</td>\n",
              "      <td>11.24</td>\n",
              "      <td>69.34</td>\n",
              "    </tr>\n",
              "    <tr>\n",
              "      <th>4</th>\n",
              "      <td>3182</td>\n",
              "      <td>RIVER ZUARI AT MARCAIM JETTY</td>\n",
              "      <td>GOA</td>\n",
              "      <td>29.500000</td>\n",
              "      <td>5.8</td>\n",
              "      <td>7.3</td>\n",
              "      <td>83.0</td>\n",
              "      <td>1.900000</td>\n",
              "      <td>0.400000</td>\n",
              "      <td>5500.0</td>\n",
              "      <td>...</td>\n",
              "      <td>100</td>\n",
              "      <td>80</td>\n",
              "      <td>100</td>\n",
              "      <td>16.5</td>\n",
              "      <td>22.48</td>\n",
              "      <td>23.40</td>\n",
              "      <td>0.72</td>\n",
              "      <td>2.8</td>\n",
              "      <td>11.24</td>\n",
              "      <td>77.14</td>\n",
              "    </tr>\n",
              "    <tr>\n",
              "      <th>...</th>\n",
              "      <td>...</td>\n",
              "      <td>...</td>\n",
              "      <td>...</td>\n",
              "      <td>...</td>\n",
              "      <td>...</td>\n",
              "      <td>...</td>\n",
              "      <td>...</td>\n",
              "      <td>...</td>\n",
              "      <td>...</td>\n",
              "      <td>...</td>\n",
              "      <td>...</td>\n",
              "      <td>...</td>\n",
              "      <td>...</td>\n",
              "      <td>...</td>\n",
              "      <td>...</td>\n",
              "      <td>...</td>\n",
              "      <td>...</td>\n",
              "      <td>...</td>\n",
              "      <td>...</td>\n",
              "      <td>...</td>\n",
              "      <td>...</td>\n",
              "    </tr>\n",
              "    <tr>\n",
              "      <th>1986</th>\n",
              "      <td>1330</td>\n",
              "      <td>TAMBIRAPARANI AT ARUMUGANERI, TAMILNADU</td>\n",
              "      <td>NAN</td>\n",
              "      <td>26.209814</td>\n",
              "      <td>7.9</td>\n",
              "      <td>738.0</td>\n",
              "      <td>7.2</td>\n",
              "      <td>2.700000</td>\n",
              "      <td>0.518000</td>\n",
              "      <td>202.0</td>\n",
              "      <td>...</td>\n",
              "      <td>100</td>\n",
              "      <td>100</td>\n",
              "      <td>100</td>\n",
              "      <td>0.0</td>\n",
              "      <td>28.10</td>\n",
              "      <td>23.40</td>\n",
              "      <td>0.90</td>\n",
              "      <td>2.8</td>\n",
              "      <td>16.86</td>\n",
              "      <td>72.06</td>\n",
              "    </tr>\n",
              "    <tr>\n",
              "      <th>1987</th>\n",
              "      <td>1450</td>\n",
              "      <td>PALAR AT VANIYAMBADI WATER SUPPLY HEAD WORK, T...</td>\n",
              "      <td>NAN</td>\n",
              "      <td>29.000000</td>\n",
              "      <td>7.5</td>\n",
              "      <td>585.0</td>\n",
              "      <td>6.3</td>\n",
              "      <td>2.600000</td>\n",
              "      <td>0.155000</td>\n",
              "      <td>315.0</td>\n",
              "      <td>...</td>\n",
              "      <td>100</td>\n",
              "      <td>100</td>\n",
              "      <td>100</td>\n",
              "      <td>0.0</td>\n",
              "      <td>28.10</td>\n",
              "      <td>23.40</td>\n",
              "      <td>0.90</td>\n",
              "      <td>2.8</td>\n",
              "      <td>16.86</td>\n",
              "      <td>72.06</td>\n",
              "    </tr>\n",
              "    <tr>\n",
              "      <th>1988</th>\n",
              "      <td>1403</td>\n",
              "      <td>GUMTI AT U/S SOUTH TRIPURA,TRIPURA</td>\n",
              "      <td>NAN</td>\n",
              "      <td>28.000000</td>\n",
              "      <td>7.6</td>\n",
              "      <td>98.0</td>\n",
              "      <td>6.2</td>\n",
              "      <td>1.200000</td>\n",
              "      <td>1.623079</td>\n",
              "      <td>570.0</td>\n",
              "      <td>...</td>\n",
              "      <td>100</td>\n",
              "      <td>100</td>\n",
              "      <td>100</td>\n",
              "      <td>0.0</td>\n",
              "      <td>28.10</td>\n",
              "      <td>23.40</td>\n",
              "      <td>0.90</td>\n",
              "      <td>2.8</td>\n",
              "      <td>11.24</td>\n",
              "      <td>66.44</td>\n",
              "    </tr>\n",
              "    <tr>\n",
              "      <th>1989</th>\n",
              "      <td>1404</td>\n",
              "      <td>GUMTI AT D/S SOUTH TRIPURA, TRIPURA</td>\n",
              "      <td>NAN</td>\n",
              "      <td>28.000000</td>\n",
              "      <td>7.7</td>\n",
              "      <td>91.0</td>\n",
              "      <td>6.5</td>\n",
              "      <td>1.300000</td>\n",
              "      <td>1.623079</td>\n",
              "      <td>562.0</td>\n",
              "      <td>...</td>\n",
              "      <td>100</td>\n",
              "      <td>100</td>\n",
              "      <td>100</td>\n",
              "      <td>0.0</td>\n",
              "      <td>28.10</td>\n",
              "      <td>23.40</td>\n",
              "      <td>0.90</td>\n",
              "      <td>2.8</td>\n",
              "      <td>11.24</td>\n",
              "      <td>66.44</td>\n",
              "    </tr>\n",
              "    <tr>\n",
              "      <th>1990</th>\n",
              "      <td>1726</td>\n",
              "      <td>CHANDRAPUR, AGARTALA D/S OF HAORA RIVER, TRIPURA</td>\n",
              "      <td>NAN</td>\n",
              "      <td>29.000000</td>\n",
              "      <td>7.6</td>\n",
              "      <td>110.0</td>\n",
              "      <td>5.7</td>\n",
              "      <td>1.100000</td>\n",
              "      <td>1.623079</td>\n",
              "      <td>546.0</td>\n",
              "      <td>...</td>\n",
              "      <td>100</td>\n",
              "      <td>100</td>\n",
              "      <td>100</td>\n",
              "      <td>0.0</td>\n",
              "      <td>28.10</td>\n",
              "      <td>23.40</td>\n",
              "      <td>0.90</td>\n",
              "      <td>2.8</td>\n",
              "      <td>11.24</td>\n",
              "      <td>66.44</td>\n",
              "    </tr>\n",
              "  </tbody>\n",
              "</table>\n",
              "<p>1991 rows × 24 columns</p>\n",
              "</div>\n",
              "      <button class=\"colab-df-convert\" onclick=\"convertToInteractive('df-91ed4937-1e50-40ea-8b45-8d3641e3fd10')\"\n",
              "              title=\"Convert this dataframe to an interactive table.\"\n",
              "              style=\"display:none;\">\n",
              "        \n",
              "  <svg xmlns=\"http://www.w3.org/2000/svg\" height=\"24px\"viewBox=\"0 0 24 24\"\n",
              "       width=\"24px\">\n",
              "    <path d=\"M0 0h24v24H0V0z\" fill=\"none\"/>\n",
              "    <path d=\"M18.56 5.44l.94 2.06.94-2.06 2.06-.94-2.06-.94-.94-2.06-.94 2.06-2.06.94zm-11 1L8.5 8.5l.94-2.06 2.06-.94-2.06-.94L8.5 2.5l-.94 2.06-2.06.94zm10 10l.94 2.06.94-2.06 2.06-.94-2.06-.94-.94-2.06-.94 2.06-2.06.94z\"/><path d=\"M17.41 7.96l-1.37-1.37c-.4-.4-.92-.59-1.43-.59-.52 0-1.04.2-1.43.59L10.3 9.45l-7.72 7.72c-.78.78-.78 2.05 0 2.83L4 21.41c.39.39.9.59 1.41.59.51 0 1.02-.2 1.41-.59l7.78-7.78 2.81-2.81c.8-.78.8-2.07 0-2.86zM5.41 20L4 18.59l7.72-7.72 1.47 1.35L5.41 20z\"/>\n",
              "  </svg>\n",
              "      </button>\n",
              "      \n",
              "  <style>\n",
              "    .colab-df-container {\n",
              "      display:flex;\n",
              "      flex-wrap:wrap;\n",
              "      gap: 12px;\n",
              "    }\n",
              "\n",
              "    .colab-df-convert {\n",
              "      background-color: #E8F0FE;\n",
              "      border: none;\n",
              "      border-radius: 50%;\n",
              "      cursor: pointer;\n",
              "      display: none;\n",
              "      fill: #1967D2;\n",
              "      height: 32px;\n",
              "      padding: 0 0 0 0;\n",
              "      width: 32px;\n",
              "    }\n",
              "\n",
              "    .colab-df-convert:hover {\n",
              "      background-color: #E2EBFA;\n",
              "      box-shadow: 0px 1px 2px rgba(60, 64, 67, 0.3), 0px 1px 3px 1px rgba(60, 64, 67, 0.15);\n",
              "      fill: #174EA6;\n",
              "    }\n",
              "\n",
              "    [theme=dark] .colab-df-convert {\n",
              "      background-color: #3B4455;\n",
              "      fill: #D2E3FC;\n",
              "    }\n",
              "\n",
              "    [theme=dark] .colab-df-convert:hover {\n",
              "      background-color: #434B5C;\n",
              "      box-shadow: 0px 1px 3px 1px rgba(0, 0, 0, 0.15);\n",
              "      filter: drop-shadow(0px 1px 2px rgba(0, 0, 0, 0.3));\n",
              "      fill: #FFFFFF;\n",
              "    }\n",
              "  </style>\n",
              "\n",
              "      <script>\n",
              "        const buttonEl =\n",
              "          document.querySelector('#df-91ed4937-1e50-40ea-8b45-8d3641e3fd10 button.colab-df-convert');\n",
              "        buttonEl.style.display =\n",
              "          google.colab.kernel.accessAllowed ? 'block' : 'none';\n",
              "\n",
              "        async function convertToInteractive(key) {\n",
              "          const element = document.querySelector('#df-91ed4937-1e50-40ea-8b45-8d3641e3fd10');\n",
              "          const dataTable =\n",
              "            await google.colab.kernel.invokeFunction('convertToInteractive',\n",
              "                                                     [key], {});\n",
              "          if (!dataTable) return;\n",
              "\n",
              "          const docLinkHtml = 'Like what you see? Visit the ' +\n",
              "            '<a target=\"_blank\" href=https://colab.research.google.com/notebooks/data_table.ipynb>data table notebook</a>'\n",
              "            + ' to learn more about interactive tables.';\n",
              "          element.innerHTML = '';\n",
              "          dataTable['output_type'] = 'display_data';\n",
              "          await google.colab.output.renderOutput(dataTable, element);\n",
              "          const docLink = document.createElement('div');\n",
              "          docLink.innerHTML = docLinkHtml;\n",
              "          element.appendChild(docLink);\n",
              "        }\n",
              "      </script>\n",
              "    </div>\n",
              "  </div>\n",
              "  "
            ]
          },
          "metadata": {},
          "execution_count": 50
        }
      ]
    },
    {
      "cell_type": "code",
      "source": [
        "data.head()"
      ],
      "metadata": {
        "colab": {
          "base_uri": "https://localhost:8080/",
          "height": 490
        },
        "id": "GbXOvFN64byC",
        "outputId": "24cdce45-3c76-454c-c2e0-7342d25d2f10"
      },
      "id": "GbXOvFN64byC",
      "execution_count": 51,
      "outputs": [
        {
          "output_type": "execute_result",
          "data": {
            "text/plain": [
              "  station                                           location        state  \\\n",
              "0    1393               DAMANGANGA AT D/S OF MADHUBAN, DAMAN  DAMAN & DIU   \n",
              "1    1399  ZUARI AT D/S OF PT. WHERE KUMBARJRIA CANAL JOI...          GOA   \n",
              "2    1475                                ZUARI AT PANCHAWADI          GOA   \n",
              "3    3181                        RIVER ZUARI AT BORIM BRIDGE          GOA   \n",
              "4    3182                       RIVER ZUARI AT MARCAIM JETTY          GOA   \n",
              "\n",
              "   Temp   do   ph     co       bod   na      tc  ...  nbdo  nec  nna   wph  \\\n",
              "0  30.6  6.7  7.5  203.0  6.940049  0.1    27.0  ...    60   60  100  16.5   \n",
              "1  29.8  5.7  7.2  189.0  2.000000  0.2  8391.0  ...   100   60  100  16.5   \n",
              "2  29.5  6.3  6.9  179.0  1.700000  0.1  5330.0  ...   100   60  100  13.2   \n",
              "3  29.7  5.8  6.9   64.0  3.800000  0.5  8443.0  ...    80  100  100  13.2   \n",
              "4  29.5  5.8  7.3   83.0  1.900000  0.4  5500.0  ...   100   80  100  16.5   \n",
              "\n",
              "     wdo   wbdo   wec  wna    wco    wqi  \n",
              "0  28.10  14.04  0.54  2.8  22.48  84.46  \n",
              "1  22.48  23.40  0.54  2.8  11.24  76.96  \n",
              "2  28.10  23.40  0.54  2.8  11.24  79.28  \n",
              "3  22.48  18.72  0.90  2.8  11.24  69.34  \n",
              "4  22.48  23.40  0.72  2.8  11.24  77.14  \n",
              "\n",
              "[5 rows x 24 columns]"
            ],
            "text/html": [
              "\n",
              "  <div id=\"df-9c2d2359-8237-46ed-9243-c0588ad0525a\">\n",
              "    <div class=\"colab-df-container\">\n",
              "      <div>\n",
              "<style scoped>\n",
              "    .dataframe tbody tr th:only-of-type {\n",
              "        vertical-align: middle;\n",
              "    }\n",
              "\n",
              "    .dataframe tbody tr th {\n",
              "        vertical-align: top;\n",
              "    }\n",
              "\n",
              "    .dataframe thead th {\n",
              "        text-align: right;\n",
              "    }\n",
              "</style>\n",
              "<table border=\"1\" class=\"dataframe\">\n",
              "  <thead>\n",
              "    <tr style=\"text-align: right;\">\n",
              "      <th></th>\n",
              "      <th>station</th>\n",
              "      <th>location</th>\n",
              "      <th>state</th>\n",
              "      <th>Temp</th>\n",
              "      <th>do</th>\n",
              "      <th>ph</th>\n",
              "      <th>co</th>\n",
              "      <th>bod</th>\n",
              "      <th>na</th>\n",
              "      <th>tc</th>\n",
              "      <th>...</th>\n",
              "      <th>nbdo</th>\n",
              "      <th>nec</th>\n",
              "      <th>nna</th>\n",
              "      <th>wph</th>\n",
              "      <th>wdo</th>\n",
              "      <th>wbdo</th>\n",
              "      <th>wec</th>\n",
              "      <th>wna</th>\n",
              "      <th>wco</th>\n",
              "      <th>wqi</th>\n",
              "    </tr>\n",
              "  </thead>\n",
              "  <tbody>\n",
              "    <tr>\n",
              "      <th>0</th>\n",
              "      <td>1393</td>\n",
              "      <td>DAMANGANGA AT D/S OF MADHUBAN, DAMAN</td>\n",
              "      <td>DAMAN &amp; DIU</td>\n",
              "      <td>30.6</td>\n",
              "      <td>6.7</td>\n",
              "      <td>7.5</td>\n",
              "      <td>203.0</td>\n",
              "      <td>6.940049</td>\n",
              "      <td>0.1</td>\n",
              "      <td>27.0</td>\n",
              "      <td>...</td>\n",
              "      <td>60</td>\n",
              "      <td>60</td>\n",
              "      <td>100</td>\n",
              "      <td>16.5</td>\n",
              "      <td>28.10</td>\n",
              "      <td>14.04</td>\n",
              "      <td>0.54</td>\n",
              "      <td>2.8</td>\n",
              "      <td>22.48</td>\n",
              "      <td>84.46</td>\n",
              "    </tr>\n",
              "    <tr>\n",
              "      <th>1</th>\n",
              "      <td>1399</td>\n",
              "      <td>ZUARI AT D/S OF PT. WHERE KUMBARJRIA CANAL JOI...</td>\n",
              "      <td>GOA</td>\n",
              "      <td>29.8</td>\n",
              "      <td>5.7</td>\n",
              "      <td>7.2</td>\n",
              "      <td>189.0</td>\n",
              "      <td>2.000000</td>\n",
              "      <td>0.2</td>\n",
              "      <td>8391.0</td>\n",
              "      <td>...</td>\n",
              "      <td>100</td>\n",
              "      <td>60</td>\n",
              "      <td>100</td>\n",
              "      <td>16.5</td>\n",
              "      <td>22.48</td>\n",
              "      <td>23.40</td>\n",
              "      <td>0.54</td>\n",
              "      <td>2.8</td>\n",
              "      <td>11.24</td>\n",
              "      <td>76.96</td>\n",
              "    </tr>\n",
              "    <tr>\n",
              "      <th>2</th>\n",
              "      <td>1475</td>\n",
              "      <td>ZUARI AT PANCHAWADI</td>\n",
              "      <td>GOA</td>\n",
              "      <td>29.5</td>\n",
              "      <td>6.3</td>\n",
              "      <td>6.9</td>\n",
              "      <td>179.0</td>\n",
              "      <td>1.700000</td>\n",
              "      <td>0.1</td>\n",
              "      <td>5330.0</td>\n",
              "      <td>...</td>\n",
              "      <td>100</td>\n",
              "      <td>60</td>\n",
              "      <td>100</td>\n",
              "      <td>13.2</td>\n",
              "      <td>28.10</td>\n",
              "      <td>23.40</td>\n",
              "      <td>0.54</td>\n",
              "      <td>2.8</td>\n",
              "      <td>11.24</td>\n",
              "      <td>79.28</td>\n",
              "    </tr>\n",
              "    <tr>\n",
              "      <th>3</th>\n",
              "      <td>3181</td>\n",
              "      <td>RIVER ZUARI AT BORIM BRIDGE</td>\n",
              "      <td>GOA</td>\n",
              "      <td>29.7</td>\n",
              "      <td>5.8</td>\n",
              "      <td>6.9</td>\n",
              "      <td>64.0</td>\n",
              "      <td>3.800000</td>\n",
              "      <td>0.5</td>\n",
              "      <td>8443.0</td>\n",
              "      <td>...</td>\n",
              "      <td>80</td>\n",
              "      <td>100</td>\n",
              "      <td>100</td>\n",
              "      <td>13.2</td>\n",
              "      <td>22.48</td>\n",
              "      <td>18.72</td>\n",
              "      <td>0.90</td>\n",
              "      <td>2.8</td>\n",
              "      <td>11.24</td>\n",
              "      <td>69.34</td>\n",
              "    </tr>\n",
              "    <tr>\n",
              "      <th>4</th>\n",
              "      <td>3182</td>\n",
              "      <td>RIVER ZUARI AT MARCAIM JETTY</td>\n",
              "      <td>GOA</td>\n",
              "      <td>29.5</td>\n",
              "      <td>5.8</td>\n",
              "      <td>7.3</td>\n",
              "      <td>83.0</td>\n",
              "      <td>1.900000</td>\n",
              "      <td>0.4</td>\n",
              "      <td>5500.0</td>\n",
              "      <td>...</td>\n",
              "      <td>100</td>\n",
              "      <td>80</td>\n",
              "      <td>100</td>\n",
              "      <td>16.5</td>\n",
              "      <td>22.48</td>\n",
              "      <td>23.40</td>\n",
              "      <td>0.72</td>\n",
              "      <td>2.8</td>\n",
              "      <td>11.24</td>\n",
              "      <td>77.14</td>\n",
              "    </tr>\n",
              "  </tbody>\n",
              "</table>\n",
              "<p>5 rows × 24 columns</p>\n",
              "</div>\n",
              "      <button class=\"colab-df-convert\" onclick=\"convertToInteractive('df-9c2d2359-8237-46ed-9243-c0588ad0525a')\"\n",
              "              title=\"Convert this dataframe to an interactive table.\"\n",
              "              style=\"display:none;\">\n",
              "        \n",
              "  <svg xmlns=\"http://www.w3.org/2000/svg\" height=\"24px\"viewBox=\"0 0 24 24\"\n",
              "       width=\"24px\">\n",
              "    <path d=\"M0 0h24v24H0V0z\" fill=\"none\"/>\n",
              "    <path d=\"M18.56 5.44l.94 2.06.94-2.06 2.06-.94-2.06-.94-.94-2.06-.94 2.06-2.06.94zm-11 1L8.5 8.5l.94-2.06 2.06-.94-2.06-.94L8.5 2.5l-.94 2.06-2.06.94zm10 10l.94 2.06.94-2.06 2.06-.94-2.06-.94-.94-2.06-.94 2.06-2.06.94z\"/><path d=\"M17.41 7.96l-1.37-1.37c-.4-.4-.92-.59-1.43-.59-.52 0-1.04.2-1.43.59L10.3 9.45l-7.72 7.72c-.78.78-.78 2.05 0 2.83L4 21.41c.39.39.9.59 1.41.59.51 0 1.02-.2 1.41-.59l7.78-7.78 2.81-2.81c.8-.78.8-2.07 0-2.86zM5.41 20L4 18.59l7.72-7.72 1.47 1.35L5.41 20z\"/>\n",
              "  </svg>\n",
              "      </button>\n",
              "      \n",
              "  <style>\n",
              "    .colab-df-container {\n",
              "      display:flex;\n",
              "      flex-wrap:wrap;\n",
              "      gap: 12px;\n",
              "    }\n",
              "\n",
              "    .colab-df-convert {\n",
              "      background-color: #E8F0FE;\n",
              "      border: none;\n",
              "      border-radius: 50%;\n",
              "      cursor: pointer;\n",
              "      display: none;\n",
              "      fill: #1967D2;\n",
              "      height: 32px;\n",
              "      padding: 0 0 0 0;\n",
              "      width: 32px;\n",
              "    }\n",
              "\n",
              "    .colab-df-convert:hover {\n",
              "      background-color: #E2EBFA;\n",
              "      box-shadow: 0px 1px 2px rgba(60, 64, 67, 0.3), 0px 1px 3px 1px rgba(60, 64, 67, 0.15);\n",
              "      fill: #174EA6;\n",
              "    }\n",
              "\n",
              "    [theme=dark] .colab-df-convert {\n",
              "      background-color: #3B4455;\n",
              "      fill: #D2E3FC;\n",
              "    }\n",
              "\n",
              "    [theme=dark] .colab-df-convert:hover {\n",
              "      background-color: #434B5C;\n",
              "      box-shadow: 0px 1px 3px 1px rgba(0, 0, 0, 0.15);\n",
              "      filter: drop-shadow(0px 1px 2px rgba(0, 0, 0, 0.3));\n",
              "      fill: #FFFFFF;\n",
              "    }\n",
              "  </style>\n",
              "\n",
              "      <script>\n",
              "        const buttonEl =\n",
              "          document.querySelector('#df-9c2d2359-8237-46ed-9243-c0588ad0525a button.colab-df-convert');\n",
              "        buttonEl.style.display =\n",
              "          google.colab.kernel.accessAllowed ? 'block' : 'none';\n",
              "\n",
              "        async function convertToInteractive(key) {\n",
              "          const element = document.querySelector('#df-9c2d2359-8237-46ed-9243-c0588ad0525a');\n",
              "          const dataTable =\n",
              "            await google.colab.kernel.invokeFunction('convertToInteractive',\n",
              "                                                     [key], {});\n",
              "          if (!dataTable) return;\n",
              "\n",
              "          const docLinkHtml = 'Like what you see? Visit the ' +\n",
              "            '<a target=\"_blank\" href=https://colab.research.google.com/notebooks/data_table.ipynb>data table notebook</a>'\n",
              "            + ' to learn more about interactive tables.';\n",
              "          element.innerHTML = '';\n",
              "          dataTable['output_type'] = 'display_data';\n",
              "          await google.colab.output.renderOutput(dataTable, element);\n",
              "          const docLink = document.createElement('div');\n",
              "          docLink.innerHTML = docLinkHtml;\n",
              "          element.appendChild(docLink);\n",
              "        }\n",
              "      </script>\n",
              "    </div>\n",
              "  </div>\n",
              "  "
            ]
          },
          "metadata": {},
          "execution_count": 51
        }
      ]
    },
    {
      "cell_type": "markdown",
      "source": [
        "Calculating Overall Water Quality Index for Each Year\n"
      ],
      "metadata": {
        "id": "A2BTiqOj4iH-"
      },
      "id": "A2BTiqOj4iH-"
    },
    {
      "cell_type": "code",
      "source": [
        "average=data.groupby('year')['wqi'].mean()\n"
      ],
      "metadata": {
        "id": "F5V6x1ra4kdk"
      },
      "id": "F5V6x1ra4kdk",
      "execution_count": 52,
      "outputs": []
    },
    {
      "cell_type": "code",
      "source": [
        "average"
      ],
      "metadata": {
        "colab": {
          "base_uri": "https://localhost:8080/"
        },
        "id": "VNP8Lyh-4rin",
        "outputId": "eae85a89-e431-4f1c-eb4d-e26f290f0fe9"
      },
      "id": "VNP8Lyh-4rin",
      "execution_count": 53,
      "outputs": [
        {
          "output_type": "execute_result",
          "data": {
            "text/plain": [
              "year\n",
              "2003    66.239545\n",
              "2004    61.290000\n",
              "2005    73.762689\n",
              "2006    72.909714\n",
              "2007    74.233000\n",
              "2008    73.506289\n",
              "2009    74.456685\n",
              "2010    75.454787\n",
              "2011    76.666580\n",
              "2012    79.496712\n",
              "2013    76.494789\n",
              "2014    77.839592\n",
              "Name: wqi, dtype: float64"
            ]
          },
          "metadata": {},
          "execution_count": 53
        }
      ]
    },
    {
      "cell_type": "code",
      "source": [
        "df1=average.reset_index(level=0,inplace=False)\n",
        "df1"
      ],
      "metadata": {
        "colab": {
          "base_uri": "https://localhost:8080/",
          "height": 426
        },
        "id": "CIJtjdwE4wfW",
        "outputId": "b9e08856-6fbc-4656-b05b-f4edbca8c5ea"
      },
      "id": "CIJtjdwE4wfW",
      "execution_count": 54,
      "outputs": [
        {
          "output_type": "execute_result",
          "data": {
            "text/plain": [
              "    year        wqi\n",
              "0   2003  66.239545\n",
              "1   2004  61.290000\n",
              "2   2005  73.762689\n",
              "3   2006  72.909714\n",
              "4   2007  74.233000\n",
              "5   2008  73.506289\n",
              "6   2009  74.456685\n",
              "7   2010  75.454787\n",
              "8   2011  76.666580\n",
              "9   2012  79.496712\n",
              "10  2013  76.494789\n",
              "11  2014  77.839592"
            ],
            "text/html": [
              "\n",
              "  <div id=\"df-2a659b09-f4f9-4664-a6b3-dd19c7fdab13\">\n",
              "    <div class=\"colab-df-container\">\n",
              "      <div>\n",
              "<style scoped>\n",
              "    .dataframe tbody tr th:only-of-type {\n",
              "        vertical-align: middle;\n",
              "    }\n",
              "\n",
              "    .dataframe tbody tr th {\n",
              "        vertical-align: top;\n",
              "    }\n",
              "\n",
              "    .dataframe thead th {\n",
              "        text-align: right;\n",
              "    }\n",
              "</style>\n",
              "<table border=\"1\" class=\"dataframe\">\n",
              "  <thead>\n",
              "    <tr style=\"text-align: right;\">\n",
              "      <th></th>\n",
              "      <th>year</th>\n",
              "      <th>wqi</th>\n",
              "    </tr>\n",
              "  </thead>\n",
              "  <tbody>\n",
              "    <tr>\n",
              "      <th>0</th>\n",
              "      <td>2003</td>\n",
              "      <td>66.239545</td>\n",
              "    </tr>\n",
              "    <tr>\n",
              "      <th>1</th>\n",
              "      <td>2004</td>\n",
              "      <td>61.290000</td>\n",
              "    </tr>\n",
              "    <tr>\n",
              "      <th>2</th>\n",
              "      <td>2005</td>\n",
              "      <td>73.762689</td>\n",
              "    </tr>\n",
              "    <tr>\n",
              "      <th>3</th>\n",
              "      <td>2006</td>\n",
              "      <td>72.909714</td>\n",
              "    </tr>\n",
              "    <tr>\n",
              "      <th>4</th>\n",
              "      <td>2007</td>\n",
              "      <td>74.233000</td>\n",
              "    </tr>\n",
              "    <tr>\n",
              "      <th>5</th>\n",
              "      <td>2008</td>\n",
              "      <td>73.506289</td>\n",
              "    </tr>\n",
              "    <tr>\n",
              "      <th>6</th>\n",
              "      <td>2009</td>\n",
              "      <td>74.456685</td>\n",
              "    </tr>\n",
              "    <tr>\n",
              "      <th>7</th>\n",
              "      <td>2010</td>\n",
              "      <td>75.454787</td>\n",
              "    </tr>\n",
              "    <tr>\n",
              "      <th>8</th>\n",
              "      <td>2011</td>\n",
              "      <td>76.666580</td>\n",
              "    </tr>\n",
              "    <tr>\n",
              "      <th>9</th>\n",
              "      <td>2012</td>\n",
              "      <td>79.496712</td>\n",
              "    </tr>\n",
              "    <tr>\n",
              "      <th>10</th>\n",
              "      <td>2013</td>\n",
              "      <td>76.494789</td>\n",
              "    </tr>\n",
              "    <tr>\n",
              "      <th>11</th>\n",
              "      <td>2014</td>\n",
              "      <td>77.839592</td>\n",
              "    </tr>\n",
              "  </tbody>\n",
              "</table>\n",
              "</div>\n",
              "      <button class=\"colab-df-convert\" onclick=\"convertToInteractive('df-2a659b09-f4f9-4664-a6b3-dd19c7fdab13')\"\n",
              "              title=\"Convert this dataframe to an interactive table.\"\n",
              "              style=\"display:none;\">\n",
              "        \n",
              "  <svg xmlns=\"http://www.w3.org/2000/svg\" height=\"24px\"viewBox=\"0 0 24 24\"\n",
              "       width=\"24px\">\n",
              "    <path d=\"M0 0h24v24H0V0z\" fill=\"none\"/>\n",
              "    <path d=\"M18.56 5.44l.94 2.06.94-2.06 2.06-.94-2.06-.94-.94-2.06-.94 2.06-2.06.94zm-11 1L8.5 8.5l.94-2.06 2.06-.94-2.06-.94L8.5 2.5l-.94 2.06-2.06.94zm10 10l.94 2.06.94-2.06 2.06-.94-2.06-.94-.94-2.06-.94 2.06-2.06.94z\"/><path d=\"M17.41 7.96l-1.37-1.37c-.4-.4-.92-.59-1.43-.59-.52 0-1.04.2-1.43.59L10.3 9.45l-7.72 7.72c-.78.78-.78 2.05 0 2.83L4 21.41c.39.39.9.59 1.41.59.51 0 1.02-.2 1.41-.59l7.78-7.78 2.81-2.81c.8-.78.8-2.07 0-2.86zM5.41 20L4 18.59l7.72-7.72 1.47 1.35L5.41 20z\"/>\n",
              "  </svg>\n",
              "      </button>\n",
              "      \n",
              "  <style>\n",
              "    .colab-df-container {\n",
              "      display:flex;\n",
              "      flex-wrap:wrap;\n",
              "      gap: 12px;\n",
              "    }\n",
              "\n",
              "    .colab-df-convert {\n",
              "      background-color: #E8F0FE;\n",
              "      border: none;\n",
              "      border-radius: 50%;\n",
              "      cursor: pointer;\n",
              "      display: none;\n",
              "      fill: #1967D2;\n",
              "      height: 32px;\n",
              "      padding: 0 0 0 0;\n",
              "      width: 32px;\n",
              "    }\n",
              "\n",
              "    .colab-df-convert:hover {\n",
              "      background-color: #E2EBFA;\n",
              "      box-shadow: 0px 1px 2px rgba(60, 64, 67, 0.3), 0px 1px 3px 1px rgba(60, 64, 67, 0.15);\n",
              "      fill: #174EA6;\n",
              "    }\n",
              "\n",
              "    [theme=dark] .colab-df-convert {\n",
              "      background-color: #3B4455;\n",
              "      fill: #D2E3FC;\n",
              "    }\n",
              "\n",
              "    [theme=dark] .colab-df-convert:hover {\n",
              "      background-color: #434B5C;\n",
              "      box-shadow: 0px 1px 3px 1px rgba(0, 0, 0, 0.15);\n",
              "      filter: drop-shadow(0px 1px 2px rgba(0, 0, 0, 0.3));\n",
              "      fill: #FFFFFF;\n",
              "    }\n",
              "  </style>\n",
              "\n",
              "      <script>\n",
              "        const buttonEl =\n",
              "          document.querySelector('#df-2a659b09-f4f9-4664-a6b3-dd19c7fdab13 button.colab-df-convert');\n",
              "        buttonEl.style.display =\n",
              "          google.colab.kernel.accessAllowed ? 'block' : 'none';\n",
              "\n",
              "        async function convertToInteractive(key) {\n",
              "          const element = document.querySelector('#df-2a659b09-f4f9-4664-a6b3-dd19c7fdab13');\n",
              "          const dataTable =\n",
              "            await google.colab.kernel.invokeFunction('convertToInteractive',\n",
              "                                                     [key], {});\n",
              "          if (!dataTable) return;\n",
              "\n",
              "          const docLinkHtml = 'Like what you see? Visit the ' +\n",
              "            '<a target=\"_blank\" href=https://colab.research.google.com/notebooks/data_table.ipynb>data table notebook</a>'\n",
              "            + ' to learn more about interactive tables.';\n",
              "          element.innerHTML = '';\n",
              "          dataTable['output_type'] = 'display_data';\n",
              "          await google.colab.output.renderOutput(dataTable, element);\n",
              "          const docLink = document.createElement('div');\n",
              "          docLink.innerHTML = docLinkHtml;\n",
              "          element.appendChild(docLink);\n",
              "        }\n",
              "      </script>\n",
              "    </div>\n",
              "  </div>\n",
              "  "
            ]
          },
          "metadata": {},
          "execution_count": 54
        }
      ]
    },
    {
      "cell_type": "markdown",
      "source": [
        "DATA VISUALIZATION\n"
      ],
      "metadata": {
        "id": "70m67JmC5DUV"
      },
      "id": "70m67JmC5DUV"
    },
    {
      "cell_type": "code",
      "source": [
        "for col in data.columns:\n",
        "    if data.dtypes[col]=='float64'or data.dtypes[col]=='int64':\n",
        "        sns.boxplot(x=data[col]).set(xlabel=col)\n",
        "        plt.show()"
      ],
      "metadata": {
        "colab": {
          "base_uri": "https://localhost:8080/",
          "height": 1000
        },
        "id": "7qBk_K985C_Q",
        "outputId": "305b705f-c0a4-4726-d00d-5e2e586ed60a"
      },
      "id": "7qBk_K985C_Q",
      "execution_count": 55,
      "outputs": [
        {
          "output_type": "display_data",
          "data": {
            "text/plain": [
              "<Figure size 432x288 with 1 Axes>"
            ],
            "image/png": "[encoded data removed]"
          },
          "metadata": {
            "needs_background": "light"
          }
        },
        {
          "output_type": "display_data",
          "data": {
            "text/plain": [
              "<Figure size 432x288 with 1 Axes>"
            ],
            "image/png": "[encoded data removed]"
          },
          "metadata": {
            "needs_background": "light"
          }
        },
        {
          "output_type": "display_data",
          "data": {
            "text/plain": [
              "<Figure size 432x288 with 1 Axes>"
            ],
            "image/png": "[encoded data removed]"
          },
          "metadata": {
            "needs_background": "light"
          }
        },
        {
          "output_type": "display_data",
          "data": {
            "text/plain": [
              "<Figure size 432x288 with 1 Axes>"
            ],
            "image/png": "[encoded data removed]"
          },
          "metadata": {
            "needs_background": "light"
          }
        },
        {
          "output_type": "display_data",
          "data": {
            "text/plain": [
              "<Figure size 432x288 with 1 Axes>"
            ],
            "image/png": "[encoded data removed]"
          },
          "metadata": {
            "needs_background": "light"
          }
        },
        {
          "output_type": "display_data",
          "data": {
            "text/plain": [
              "<Figure size 432x288 with 1 Axes>"
            ],
            "image/png": "[encoded data removed]"
          },
          "metadata": {
            "needs_background": "light"
          }
        },
        {
          "output_type": "display_data",
          "data": {
            "text/plain": [
              "<Figure size 432x288 with 1 Axes>"
            ],
            "image/png": "[encoded data removed]"
          },
          "metadata": {
            "needs_background": "light"
          }
        },
        {
          "output_type": "display_data",
          "data": {
            "text/plain": [
              "<Figure size 432x288 with 1 Axes>"
            ],
            "image/png": "[encoded data removed]"
          },
          "metadata": {
            "needs_background": "light"
          }
        },
        {
          "output_type": "display_data",
          "data": {
            "text/plain": [
              "<Figure size 432x288 with 1 Axes>"
            ],
            "image/png": "[encoded data removed]"
          },
          "metadata": {
            "needs_background": "light"
          }
        },
        {
          "output_type": "display_data",
          "data": {
            "text/plain": [
              "<Figure size 432x288 with 1 Axes>"
            ],
            "image/png": "[encoded data removed]"
          },
          "metadata": {
            "needs_background": "light"
          }
        },
        {
          "output_type": "display_data",
          "data": {
            "text/plain": [
              "<Figure size 432x288 with 1 Axes>"
            ],
            "image/png": "[encoded data removed]"
          },
          "metadata": {
            "needs_background": "light"
          }
        },
        {
          "output_type": "display_data",
          "data": {
            "text/plain": [
              "<Figure size 432x288 with 1 Axes>"
            ],
            "image/png": "[encoded data removed]"
          },
          "metadata": {
            "needs_background": "light"
          }
        },
        {
          "output_type": "display_data",
          "data": {
            "text/plain": [
              "<Figure size 432x288 with 1 Axes>"
            ],
            "image/png": "[encoded data removed]"
          },
          "metadata": {
            "needs_background": "light"
          }
        },
        {
          "output_type": "display_data",
          "data": {
            "text/plain": [
              "<Figure size 432x288 with 1 Axes>"
            ],
            "image/png": "[encoded data removed]"
          },
          "metadata": {
            "needs_background": "light"
          }
        },
        {
          "output_type": "display_data",
          "data": {
            "text/plain": [
              "<Figure size 432x288 with 1 Axes>"
            ],
            "image/png": "[encoded data removed]"
          },
          "metadata": {
            "needs_background": "light"
          }
        },
        {
          "output_type": "display_data",
          "data": {
            "text/plain": [
              "<Figure size 432x288 with 1 Axes>"
            ],
            "image/png": "[encoded data removed]"
          },
          "metadata": {
            "needs_background": "light"
          }
        },
        {
          "output_type": "display_data",
          "data": {
            "text/plain": [
              "<Figure size 432x288 with 1 Axes>"
            ],
            "image/png": "[encoded data removed]"
          },
          "metadata": {
            "needs_background": "light"
          }
        },
        {
          "output_type": "display_data",
          "data": {
            "text/plain": [
              "<Figure size 432x288 with 1 Axes>"
            ],
            "image/png": "[encoded data removed]"
          },
          "metadata": {
            "needs_background": "light"
          }
        },
        {
          "output_type": "display_data",
          "data": {
            "text/plain": [
              "<Figure size 432x288 with 1 Axes>"
            ],
            "image/png": "[encoded data removed]"
          },
          "metadata": {
            "needs_background": "light"
          }
        },
        {
          "output_type": "display_data",
          "data": {
            "text/plain": [
              "<Figure size 432x288 with 1 Axes>"
            ],
            "image/png": "[encoded data removed]"
          },
          "metadata": {
            "needs_background": "light"
          }
        },
        {
          "output_type": "display_data",
          "data": {
            "text/plain": [
              "<Figure size 432x288 with 1 Axes>"
            ],
            "image/png": "[encoded data removed]"
          },
          "metadata": {
            "needs_background": "light"
          }
        }
      ]
    },
    {
      "cell_type": "code",
      "source": [
        "for col in data.columns:\n",
        "    if data.dtypes[col]=='float64':\n",
        "        sns.distplot(x=data[col]).set(xlabel=col)\n",
        "        plt.show()"
      ],
      "metadata": {
        "colab": {
          "base_uri": "https://localhost:8080/",
          "height": 1000
        },
        "id": "hcHRnr7u5N0M",
        "outputId": "adedd479-0cc8-4f09-d2c4-24d78b141a8b"
      },
      "id": "hcHRnr7u5N0M",
      "execution_count": 57,
      "outputs": [
        {
          "output_type": "stream",
          "name": "stderr",
          "text": [
            "/usr/local/lib/python3.7/dist-packages/seaborn/distributions.py:2619: FutureWarning: `distplot` is a deprecated function and will be removed in a future version. Please adapt your code to use either `displot` (a figure-level function with similar flexibility) or `histplot` (an axes-level function for histograms).\n",
            "  warnings.warn(msg, FutureWarning)\n"
          ]
        },
        {
          "output_type": "display_data",
          "data": {
            "text/plain": [
              "<Figure size 432x288 with 1 Axes>"
            ],
            "image/png": "[encoded data removed]"
          },
          "metadata": {
            "needs_background": "light"
          }
        },
        {
          "output_type": "stream",
          "name": "stderr",
          "text": [
            "/usr/local/lib/python3.7/dist-packages/seaborn/distributions.py:2619: FutureWarning: `distplot` is a deprecated function and will be removed in a future version. Please adapt your code to use either `displot` (a figure-level function with similar flexibility) or `histplot` (an axes-level function for histograms).\n",
            "  warnings.warn(msg, FutureWarning)\n"
          ]
        },
        {
          "output_type": "display_data",
          "data": {
            "text/plain": [
              "<Figure size 432x288 with 1 Axes>"
            ],
            "image/png": "[encoded data removed]"
          },
          "metadata": {
            "needs_background": "light"
          }
        },
        {
          "output_type": "stream",
          "name": "stderr",
          "text": [
            "/usr/local/lib/python3.7/dist-packages/seaborn/distributions.py:2619: FutureWarning: `distplot` is a deprecated function and will be removed in a future version. Please adapt your code to use either `displot` (a figure-level function with similar flexibility) or `histplot` (an axes-level function for histograms).\n",
            "  warnings.warn(msg, FutureWarning)\n"
          ]
        },
        {
          "output_type": "display_data",
          "data": {
            "text/plain": [
              "<Figure size 432x288 with 1 Axes>"
            ],
            "image/png": "[encoded data removed]"
          },
          "metadata": {
            "needs_background": "light"
          }
        },
        {
          "output_type": "stream",
          "name": "stderr",
          "text": [
            "/usr/local/lib/python3.7/dist-packages/seaborn/distributions.py:2619: FutureWarning: `distplot` is a deprecated function and will be removed in a future version. Please adapt your code to use either `displot` (a figure-level function with similar flexibility) or `histplot` (an axes-level function for histograms).\n",
            "  warnings.warn(msg, FutureWarning)\n"
          ]
        },
        {
          "output_type": "display_data",
          "data": {
            "text/plain": [
              "<Figure size 432x288 with 1 Axes>"
            ],
            "image/png": "[encoded data removed]"
          },
          "metadata": {
            "needs_background": "light"
          }
        },
        {
          "output_type": "stream",
          "name": "stderr",
          "text": [
            "/usr/local/lib/python3.7/dist-packages/seaborn/distributions.py:2619: FutureWarning: `distplot` is a deprecated function and will be removed in a future version. Please adapt your code to use either `displot` (a figure-level function with similar flexibility) or `histplot` (an axes-level function for histograms).\n",
            "  warnings.warn(msg, FutureWarning)\n"
          ]
        },
        {
          "output_type": "display_data",
          "data": {
            "text/plain": [
              "<Figure size 432x288 with 1 Axes>"
            ],
            "image/png": "[encoded data removed]"
          },
          "metadata": {
            "needs_background": "light"
          }
        },
        {
          "output_type": "stream",
          "name": "stderr",
          "text": [
            "/usr/local/lib/python3.7/dist-packages/seaborn/distributions.py:2619: FutureWarning: `distplot` is a deprecated function and will be removed in a future version. Please adapt your code to use either `displot` (a figure-level function with similar flexibility) or `histplot` (an axes-level function for histograms).\n",
            "  warnings.warn(msg, FutureWarning)\n"
          ]
        },
        {
          "output_type": "display_data",
          "data": {
            "text/plain": [
              "<Figure size 432x288 with 1 Axes>"
            ],
            "image/png": "[encoded data removed]"
          },
          "metadata": {
            "needs_background": "light"
          }
        },
        {
          "output_type": "stream",
          "name": "stderr",
          "text": [
            "/usr/local/lib/python3.7/dist-packages/seaborn/distributions.py:2619: FutureWarning: `distplot` is a deprecated function and will be removed in a future version. Please adapt your code to use either `displot` (a figure-level function with similar flexibility) or `histplot` (an axes-level function for histograms).\n",
            "  warnings.warn(msg, FutureWarning)\n"
          ]
        },
        {
          "output_type": "display_data",
          "data": {
            "text/plain": [
              "<Figure size 432x288 with 1 Axes>"
            ],
            "image/png": "[encoded data removed]"
          },
          "metadata": {
            "needs_background": "light"
          }
        },
        {
          "output_type": "stream",
          "name": "stderr",
          "text": [
            "/usr/local/lib/python3.7/dist-packages/seaborn/distributions.py:2619: FutureWarning: `distplot` is a deprecated function and will be removed in a future version. Please adapt your code to use either `displot` (a figure-level function with similar flexibility) or `histplot` (an axes-level function for histograms).\n",
            "  warnings.warn(msg, FutureWarning)\n"
          ]
        },
        {
          "output_type": "display_data",
          "data": {
            "text/plain": [
              "<Figure size 432x288 with 1 Axes>"
            ],
            "image/png": "[encoded data removed]"
          },
          "metadata": {
            "needs_background": "light"
          }
        },
        {
          "output_type": "stream",
          "name": "stderr",
          "text": [
            "/usr/local/lib/python3.7/dist-packages/seaborn/distributions.py:2619: FutureWarning: `distplot` is a deprecated function and will be removed in a future version. Please adapt your code to use either `displot` (a figure-level function with similar flexibility) or `histplot` (an axes-level function for histograms).\n",
            "  warnings.warn(msg, FutureWarning)\n"
          ]
        },
        {
          "output_type": "display_data",
          "data": {
            "text/plain": [
              "<Figure size 432x288 with 1 Axes>"
            ],
            "image/png": "[encoded data removed]"
          },
          "metadata": {
            "needs_background": "light"
          }
        },
        {
          "output_type": "stream",
          "name": "stderr",
          "text": [
            "/usr/local/lib/python3.7/dist-packages/seaborn/distributions.py:2619: FutureWarning: `distplot` is a deprecated function and will be removed in a future version. Please adapt your code to use either `displot` (a figure-level function with similar flexibility) or `histplot` (an axes-level function for histograms).\n",
            "  warnings.warn(msg, FutureWarning)\n"
          ]
        },
        {
          "output_type": "display_data",
          "data": {
            "text/plain": [
              "<Figure size 432x288 with 1 Axes>"
            ],
            "image/png": "[encoded data removed]"
          },
          "metadata": {
            "needs_background": "light"
          }
        },
        {
          "output_type": "stream",
          "name": "stderr",
          "text": [
            "/usr/local/lib/python3.7/dist-packages/seaborn/distributions.py:2619: FutureWarning: `distplot` is a deprecated function and will be removed in a future version. Please adapt your code to use either `displot` (a figure-level function with similar flexibility) or `histplot` (an axes-level function for histograms).\n",
            "  warnings.warn(msg, FutureWarning)\n"
          ]
        },
        {
          "output_type": "display_data",
          "data": {
            "text/plain": [
              "<Figure size 432x288 with 1 Axes>"
            ],
            "image/png": "[encoded data removed]"
          },
          "metadata": {
            "needs_background": "light"
          }
        },
        {
          "output_type": "stream",
          "name": "stderr",
          "text": [
            "/usr/local/lib/python3.7/dist-packages/seaborn/distributions.py:2619: FutureWarning: `distplot` is a deprecated function and will be removed in a future version. Please adapt your code to use either `displot` (a figure-level function with similar flexibility) or `histplot` (an axes-level function for histograms).\n",
            "  warnings.warn(msg, FutureWarning)\n"
          ]
        },
        {
          "output_type": "display_data",
          "data": {
            "text/plain": [
              "<Figure size 432x288 with 1 Axes>"
            ],
            "image/png": "[encoded data removed]"
          },
          "metadata": {
            "needs_background": "light"
          }
        },
        {
          "output_type": "stream",
          "name": "stderr",
          "text": [
            "/usr/local/lib/python3.7/dist-packages/seaborn/distributions.py:2619: FutureWarning: `distplot` is a deprecated function and will be removed in a future version. Please adapt your code to use either `displot` (a figure-level function with similar flexibility) or `histplot` (an axes-level function for histograms).\n",
            "  warnings.warn(msg, FutureWarning)\n"
          ]
        },
        {
          "output_type": "display_data",
          "data": {
            "text/plain": [
              "<Figure size 432x288 with 1 Axes>"
            ],
            "image/png": "[encoded data removed]"
          },
          "metadata": {
            "needs_background": "light"
          }
        },
        {
          "output_type": "stream",
          "name": "stderr",
          "text": [
            "/usr/local/lib/python3.7/dist-packages/seaborn/distributions.py:2619: FutureWarning: `distplot` is a deprecated function and will be removed in a future version. Please adapt your code to use either `displot` (a figure-level function with similar flexibility) or `histplot` (an axes-level function for histograms).\n",
            "  warnings.warn(msg, FutureWarning)\n"
          ]
        },
        {
          "output_type": "display_data",
          "data": {
            "text/plain": [
              "<Figure size 432x288 with 1 Axes>"
            ],
            "image/png": "[encoded data removed]"
          },
          "metadata": {
            "needs_background": "light"
          }
        }
      ]
    },
    {
      "cell_type": "code",
      "source": [
        "sns.heatmap(data.corr(),annot=True)"
      ],
      "metadata": {
        "colab": {
          "base_uri": "https://localhost:8080/",
          "height": 303
        },
        "id": "cZJkV_qW5bY6",
        "outputId": "f323489b-4af7-4bde-96ca-cca58fd03cc5"
      },
      "id": "cZJkV_qW5bY6",
      "execution_count": 59,
      "outputs": [
        {
          "output_type": "execute_result",
          "data": {
            "text/plain": [
              "<matplotlib.axes._subplots.AxesSubplot at 0x7f025e880b10>"
            ]
          },
          "metadata": {},
          "execution_count": 59
        },
        {
          "output_type": "display_data",
          "data": {
            "text/plain": [
              "<Figure size 432x288 with 2 Axes>"
            ],
            "image/png": "[encoded data removed]"
          },
          "metadata": {
            "needs_background": "light"
          }
        }
      ]
    },
    {
      "cell_type": "markdown",
      "source": [
        "**Feature reduction**\n"
      ],
      "metadata": {
        "id": "0SbFmLcC5tkD"
      },
      "id": "0SbFmLcC5tkD"
    },
    {
      "cell_type": "code",
      "source": [
        "data.drop(['Temp','station','location','state','nbdo',\"nec\",\"nna\",\"wph\",\"wdo\",\"wbdo\",\"wec\",\"wna\",\"wco\",\"npH\",\"ndo\",\"nco\"],axis = 1,inplace=True)\n",
        "data.head()"
      ],
      "metadata": {
        "colab": {
          "base_uri": "https://localhost:8080/",
          "height": 206
        },
        "id": "q6jZwM_W5w1M",
        "outputId": "bae88ce9-95c1-4ba0-fcf5-4b6bb0479731"
      },
      "id": "q6jZwM_W5w1M",
      "execution_count": 60,
      "outputs": [
        {
          "output_type": "execute_result",
          "data": {
            "text/plain": [
              "    do   ph     co       bod   na      tc  year    wqi\n",
              "0  6.7  7.5  203.0  6.940049  0.1    27.0  2014  84.46\n",
              "1  5.7  7.2  189.0  2.000000  0.2  8391.0  2014  76.96\n",
              "2  6.3  6.9  179.0  1.700000  0.1  5330.0  2014  79.28\n",
              "3  5.8  6.9   64.0  3.800000  0.5  8443.0  2014  69.34\n",
              "4  5.8  7.3   83.0  1.900000  0.4  5500.0  2014  77.14"
            ],
            "text/html": [
              "\n",
              "  <div id=\"df-47ee239a-4417-40f9-8df5-8a3d6f04a607\">\n",
              "    <div class=\"colab-df-container\">\n",
              "      <div>\n",
              "<style scoped>\n",
              "    .dataframe tbody tr th:only-of-type {\n",
              "        vertical-align: middle;\n",
              "    }\n",
              "\n",
              "    .dataframe tbody tr th {\n",
              "        vertical-align: top;\n",
              "    }\n",
              "\n",
              "    .dataframe thead th {\n",
              "        text-align: right;\n",
              "    }\n",
              "</style>\n",
              "<table border=\"1\" class=\"dataframe\">\n",
              "  <thead>\n",
              "    <tr style=\"text-align: right;\">\n",
              "      <th></th>\n",
              "      <th>do</th>\n",
              "      <th>ph</th>\n",
              "      <th>co</th>\n",
              "      <th>bod</th>\n",
              "      <th>na</th>\n",
              "      <th>tc</th>\n",
              "      <th>year</th>\n",
              "      <th>wqi</th>\n",
              "    </tr>\n",
              "  </thead>\n",
              "  <tbody>\n",
              "    <tr>\n",
              "      <th>0</th>\n",
              "      <td>6.7</td>\n",
              "      <td>7.5</td>\n",
              "      <td>203.0</td>\n",
              "      <td>6.940049</td>\n",
              "      <td>0.1</td>\n",
              "      <td>27.0</td>\n",
              "      <td>2014</td>\n",
              "      <td>84.46</td>\n",
              "    </tr>\n",
              "    <tr>\n",
              "      <th>1</th>\n",
              "      <td>5.7</td>\n",
              "      <td>7.2</td>\n",
              "      <td>189.0</td>\n",
              "      <td>2.000000</td>\n",
              "      <td>0.2</td>\n",
              "      <td>8391.0</td>\n",
              "      <td>2014</td>\n",
              "      <td>76.96</td>\n",
              "    </tr>\n",
              "    <tr>\n",
              "      <th>2</th>\n",
              "      <td>6.3</td>\n",
              "      <td>6.9</td>\n",
              "      <td>179.0</td>\n",
              "      <td>1.700000</td>\n",
              "      <td>0.1</td>\n",
              "      <td>5330.0</td>\n",
              "      <td>2014</td>\n",
              "      <td>79.28</td>\n",
              "    </tr>\n",
              "    <tr>\n",
              "      <th>3</th>\n",
              "      <td>5.8</td>\n",
              "      <td>6.9</td>\n",
              "      <td>64.0</td>\n",
              "      <td>3.800000</td>\n",
              "      <td>0.5</td>\n",
              "      <td>8443.0</td>\n",
              "      <td>2014</td>\n",
              "      <td>69.34</td>\n",
              "    </tr>\n",
              "    <tr>\n",
              "      <th>4</th>\n",
              "      <td>5.8</td>\n",
              "      <td>7.3</td>\n",
              "      <td>83.0</td>\n",
              "      <td>1.900000</td>\n",
              "      <td>0.4</td>\n",
              "      <td>5500.0</td>\n",
              "      <td>2014</td>\n",
              "      <td>77.14</td>\n",
              "    </tr>\n",
              "  </tbody>\n",
              "</table>\n",
              "</div>\n",
              "      <button class=\"colab-df-convert\" onclick=\"convertToInteractive('df-47ee239a-4417-40f9-8df5-8a3d6f04a607')\"\n",
              "              title=\"Convert this dataframe to an interactive table.\"\n",
              "              style=\"display:none;\">\n",
              "        \n",
              "  <svg xmlns=\"http://www.w3.org/2000/svg\" height=\"24px\"viewBox=\"0 0 24 24\"\n",
              "       width=\"24px\">\n",
              "    <path d=\"M0 0h24v24H0V0z\" fill=\"none\"/>\n",
              "    <path d=\"M18.56 5.44l.94 2.06.94-2.06 2.06-.94-2.06-.94-.94-2.06-.94 2.06-2.06.94zm-11 1L8.5 8.5l.94-2.06 2.06-.94-2.06-.94L8.5 2.5l-.94 2.06-2.06.94zm10 10l.94 2.06.94-2.06 2.06-.94-2.06-.94-.94-2.06-.94 2.06-2.06.94z\"/><path d=\"M17.41 7.96l-1.37-1.37c-.4-.4-.92-.59-1.43-.59-.52 0-1.04.2-1.43.59L10.3 9.45l-7.72 7.72c-.78.78-.78 2.05 0 2.83L4 21.41c.39.39.9.59 1.41.59.51 0 1.02-.2 1.41-.59l7.78-7.78 2.81-2.81c.8-.78.8-2.07 0-2.86zM5.41 20L4 18.59l7.72-7.72 1.47 1.35L5.41 20z\"/>\n",
              "  </svg>\n",
              "      </button>\n",
              "      \n",
              "  <style>\n",
              "    .colab-df-container {\n",
              "      display:flex;\n",
              "      flex-wrap:wrap;\n",
              "      gap: 12px;\n",
              "    }\n",
              "\n",
              "    .colab-df-convert {\n",
              "      background-color: #E8F0FE;\n",
              "      border: none;\n",
              "      border-radius: 50%;\n",
              "      cursor: pointer;\n",
              "      display: none;\n",
              "      fill: #1967D2;\n",
              "      height: 32px;\n",
              "      padding: 0 0 0 0;\n",
              "      width: 32px;\n",
              "    }\n",
              "\n",
              "    .colab-df-convert:hover {\n",
              "      background-color: #E2EBFA;\n",
              "      box-shadow: 0px 1px 2px rgba(60, 64, 67, 0.3), 0px 1px 3px 1px rgba(60, 64, 67, 0.15);\n",
              "      fill: #174EA6;\n",
              "    }\n",
              "\n",
              "    [theme=dark] .colab-df-convert {\n",
              "      background-color: #3B4455;\n",
              "      fill: #D2E3FC;\n",
              "    }\n",
              "\n",
              "    [theme=dark] .colab-df-convert:hover {\n",
              "      background-color: #434B5C;\n",
              "      box-shadow: 0px 1px 3px 1px rgba(0, 0, 0, 0.15);\n",
              "      filter: drop-shadow(0px 1px 2px rgba(0, 0, 0, 0.3));\n",
              "      fill: #FFFFFF;\n",
              "    }\n",
              "  </style>\n",
              "\n",
              "      <script>\n",
              "        const buttonEl =\n",
              "          document.querySelector('#df-47ee239a-4417-40f9-8df5-8a3d6f04a607 button.colab-df-convert');\n",
              "        buttonEl.style.display =\n",
              "          google.colab.kernel.accessAllowed ? 'block' : 'none';\n",
              "\n",
              "        async function convertToInteractive(key) {\n",
              "          const element = document.querySelector('#df-47ee239a-4417-40f9-8df5-8a3d6f04a607');\n",
              "          const dataTable =\n",
              "            await google.colab.kernel.invokeFunction('convertToInteractive',\n",
              "                                                     [key], {});\n",
              "          if (!dataTable) return;\n",
              "\n",
              "          const docLinkHtml = 'Like what you see? Visit the ' +\n",
              "            '<a target=\"_blank\" href=https://colab.research.google.com/notebooks/data_table.ipynb>data table notebook</a>'\n",
              "            + ' to learn more about interactive tables.';\n",
              "          element.innerHTML = '';\n",
              "          dataTable['output_type'] = 'display_data';\n",
              "          await google.colab.output.renderOutput(dataTable, element);\n",
              "          const docLink = document.createElement('div');\n",
              "          docLink.innerHTML = docLinkHtml;\n",
              "          element.appendChild(docLink);\n",
              "        }\n",
              "      </script>\n",
              "    </div>\n",
              "  </div>\n",
              "  "
            ]
          },
          "metadata": {},
          "execution_count": 60
        }
      ]
    },
    {
      "cell_type": "markdown",
      "source": [
        "**Splitting Dataset into Dependent and Independent Columns**"
      ],
      "metadata": {
        "id": "G5TjCZjl6A6p"
      },
      "id": "G5TjCZjl6A6p"
    },
    {
      "cell_type": "code",
      "source": [
        "x=data.iloc[:,0:7].values\n",
        "y=data.iloc[:,7:].values"
      ],
      "metadata": {
        "id": "52g2l6XM6CuQ"
      },
      "id": "52g2l6XM6CuQ",
      "execution_count": 61,
      "outputs": []
    },
    {
      "cell_type": "code",
      "source": [
        "x.shape"
      ],
      "metadata": {
        "colab": {
          "base_uri": "https://localhost:8080/"
        },
        "id": "oXpJi7t1599v",
        "outputId": "39ea4777-ec11-4874-b676-5aac6fc301d9"
      },
      "id": "oXpJi7t1599v",
      "execution_count": 62,
      "outputs": [
        {
          "output_type": "execute_result",
          "data": {
            "text/plain": [
              "(1991, 7)"
            ]
          },
          "metadata": {},
          "execution_count": 62
        }
      ]
    },
    {
      "cell_type": "code",
      "source": [
        "y.shape"
      ],
      "metadata": {
        "colab": {
          "base_uri": "https://localhost:8080/"
        },
        "id": "QxWKneQ76Kw0",
        "outputId": "8e1e2439-17bd-4fa6-bca5-83c5093ccea7"
      },
      "id": "QxWKneQ76Kw0",
      "execution_count": 63,
      "outputs": [
        {
          "output_type": "execute_result",
          "data": {
            "text/plain": [
              "(1991, 1)"
            ]
          },
          "metadata": {},
          "execution_count": 63
        }
      ]
    },
    {
      "cell_type": "code",
      "source": [
        "x"
      ],
      "metadata": {
        "colab": {
          "base_uri": "https://localhost:8080/"
        },
        "id": "R1Ismx1J6OQn",
        "outputId": "d03a428c-d528-4501-badc-de7a47a7cf48"
      },
      "id": "R1Ismx1J6OQn",
      "execution_count": 64,
      "outputs": [
        {
          "output_type": "execute_result",
          "data": {
            "text/plain": [
              "array([[6.70000000e+00, 7.50000000e+00, 2.03000000e+02, ...,\n",
              "        1.00000000e-01, 2.70000000e+01, 2.01400000e+03],\n",
              "       [5.70000000e+00, 7.20000000e+00, 1.89000000e+02, ...,\n",
              "        2.00000000e-01, 8.39100000e+03, 2.01400000e+03],\n",
              "       [6.30000000e+00, 6.90000000e+00, 1.79000000e+02, ...,\n",
              "        1.00000000e-01, 5.33000000e+03, 2.01400000e+03],\n",
              "       ...,\n",
              "       [7.60000000e+00, 9.80000000e+01, 6.20000000e+00, ...,\n",
              "        1.62307871e+00, 5.70000000e+02, 2.00300000e+03],\n",
              "       [7.70000000e+00, 9.10000000e+01, 6.50000000e+00, ...,\n",
              "        1.62307871e+00, 5.62000000e+02, 2.00300000e+03],\n",
              "       [7.60000000e+00, 1.10000000e+02, 5.70000000e+00, ...,\n",
              "        1.62307871e+00, 5.46000000e+02, 2.00300000e+03]])"
            ]
          },
          "metadata": {},
          "execution_count": 64
        }
      ]
    },
    {
      "cell_type": "code",
      "source": [
        "y"
      ],
      "metadata": {
        "colab": {
          "base_uri": "https://localhost:8080/"
        },
        "id": "eTShtAM76QHo",
        "outputId": "8861f993-9985-4ec9-b0b0-83a792cfc93f"
      },
      "id": "eTShtAM76QHo",
      "execution_count": 65,
      "outputs": [
        {
          "output_type": "execute_result",
          "data": {
            "text/plain": [
              "array([[84.46],\n",
              "       [76.96],\n",
              "       [79.28],\n",
              "       ...,\n",
              "       [66.44],\n",
              "       [66.44],\n",
              "       [66.44]])"
            ]
          },
          "metadata": {},
          "execution_count": 65
        }
      ]
    }
  ],
  "metadata": {
    "kernelspec": {
      "display_name": "Python 3",
      "language": "python",
      "name": "python3"
    },
    "language_info": {
      "codemirror_mode": {
        "name": "ipython",
        "version": 3
      },
      "file_extension": ".py",
      "mimetype": "text/x-python",
      "name": "python",
      "nbconvert_exporter": "python",
      "pygments_lexer": "ipython3",
      "version": "3.6.8"
    },
    "colab": {
      "provenance": [],
      "collapsed_sections": []
    }
  },
  "nbformat": 4,
  "nbformat_minor": 5
}