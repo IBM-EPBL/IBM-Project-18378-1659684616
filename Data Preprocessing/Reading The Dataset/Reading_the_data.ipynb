{
  "nbformat": 4,
  "nbformat_minor": 0,
  "metadata": {
    "colab": {
      "provenance": []
    },
    "kernelspec": {
      "name": "python3",
      "display_name": "Python 3"
    },
    "language_info": {
      "name": "python"
    }
  },
  "cells": [
    {
      "cell_type": "code",
      "execution_count": 1,
      "metadata": {
        "id": "4gNNSLc9ihU8"
      },
      "outputs": [],
      "source": [
        "import warnings\n",
        "import numpy as np\n",
        "import pandas as pd\n",
        "import matplotlib.pyplot as plt\n",
        "import seaborn as sns"
      ]
    },
    {
      "cell_type": "code",
      "source": [
        "data=pd.read_csv(r'/content/water_dataX.csv',encoding='ISO-8859-1',low_memory=False)"
      ],
      "metadata": {
        "id": "uHMy2JgGkfFd"
      },
      "execution_count": 2,
      "outputs": []
    }
  ]
}